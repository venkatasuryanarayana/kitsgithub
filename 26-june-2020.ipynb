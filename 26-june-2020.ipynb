{
 "cells": [
  {
   "cell_type": "code",
   "execution_count": 4,
   "metadata": {},
   "outputs": [
    {
     "data": {
      "text/plain": [
       "array([-1.51188848,  1.64801055,  0.57945657, -0.02636647,  0.55151785])"
      ]
     },
     "execution_count": 4,
     "metadata": {},
     "output_type": "execute_result"
    }
   ],
   "source": [
    "import numpy as np\n",
    "np.random.randn(5)"
   ]
  },
  {
   "cell_type": "code",
   "execution_count": 5,
   "metadata": {},
   "outputs": [],
   "source": [
    "# inp=s2b3c6\n",
    "# out=ssbbbcccccc"
   ]
  },
  {
   "cell_type": "code",
   "execution_count": 10,
   "metadata": {},
   "outputs": [
    {
     "name": "stdout",
     "output_type": "stream",
     "text": [
      "s2b3c6\n",
      "ssbbbcccccc\n"
     ]
    }
   ],
   "source": [
    "# inp=s2b3c6\n",
    "s=input()\n",
    "out=\"\"\n",
    "for i in s:\n",
    "    if i.isalpha():\n",
    "        al=i\n",
    "    else:\n",
    "        dig=int(i)\n",
    "        out=out+al*dig\n",
    "print(out)"
   ]
  },
  {
   "cell_type": "code",
   "execution_count": 11,
   "metadata": {},
   "outputs": [],
   "source": [
    "import numpy as np"
   ]
  },
  {
   "cell_type": "code",
   "execution_count": 12,
   "metadata": {},
   "outputs": [
    {
     "data": {
      "text/plain": [
       "array([0, 1, 2, 3, 4, 5, 6, 7, 8, 9])"
      ]
     },
     "execution_count": 12,
     "metadata": {},
     "output_type": "execute_result"
    }
   ],
   "source": [
    "k=np.arange(10)\n",
    "k"
   ]
  },
  {
   "cell_type": "code",
   "execution_count": 13,
   "metadata": {},
   "outputs": [
    {
     "data": {
      "text/plain": [
       "array([[0, 1],\n",
       "       [2, 3],\n",
       "       [4, 5],\n",
       "       [6, 7],\n",
       "       [8, 9]])"
      ]
     },
     "execution_count": 13,
     "metadata": {},
     "output_type": "execute_result"
    }
   ],
   "source": [
    "k.reshape(5,2)"
   ]
  },
  {
   "cell_type": "code",
   "execution_count": 15,
   "metadata": {},
   "outputs": [
    {
     "data": {
      "text/plain": [
       "dtype('int64')"
      ]
     },
     "execution_count": 15,
     "metadata": {},
     "output_type": "execute_result"
    }
   ],
   "source": [
    "k.dtype"
   ]
  },
  {
   "cell_type": "code",
   "execution_count": 17,
   "metadata": {},
   "outputs": [
    {
     "data": {
      "text/plain": [
       "1"
      ]
     },
     "execution_count": 17,
     "metadata": {},
     "output_type": "execute_result"
    }
   ],
   "source": [
    "k.ndim"
   ]
  },
  {
   "cell_type": "code",
   "execution_count": 20,
   "metadata": {},
   "outputs": [
    {
     "data": {
      "text/plain": [
       "array([[4, 4],\n",
       "       [4, 4],\n",
       "       [4, 4],\n",
       "       [4, 4],\n",
       "       [4, 4]])"
      ]
     },
     "execution_count": 20,
     "metadata": {},
     "output_type": "execute_result"
    }
   ],
   "source": [
    "kk=np.full((5,2),4)\n",
    "kk"
   ]
  },
  {
   "cell_type": "code",
   "execution_count": 21,
   "metadata": {},
   "outputs": [],
   "source": [
    "rd=np.random.rand(5)"
   ]
  },
  {
   "cell_type": "code",
   "execution_count": 22,
   "metadata": {},
   "outputs": [
    {
     "data": {
      "text/plain": [
       "array([0.71068439, 0.40666771, 0.9709669 , 0.65945026, 0.20744038])"
      ]
     },
     "execution_count": 22,
     "metadata": {},
     "output_type": "execute_result"
    }
   ],
   "source": [
    "rd"
   ]
  },
  {
   "cell_type": "code",
   "execution_count": 25,
   "metadata": {},
   "outputs": [],
   "source": [
    "rd1=np.random.randn(5)"
   ]
  },
  {
   "cell_type": "code",
   "execution_count": 26,
   "metadata": {},
   "outputs": [
    {
     "data": {
      "text/plain": [
       "array([ 1.82929781, -0.14368896,  0.01729401, -1.49260202, -0.36373607])"
      ]
     },
     "execution_count": 26,
     "metadata": {},
     "output_type": "execute_result"
    }
   ],
   "source": [
    "rd1"
   ]
  },
  {
   "cell_type": "code",
   "execution_count": 32,
   "metadata": {},
   "outputs": [],
   "source": [
    "ktr=np.arange(12).reshape(6,2)"
   ]
  },
  {
   "cell_type": "code",
   "execution_count": 34,
   "metadata": {},
   "outputs": [
    {
     "data": {
      "text/plain": [
       "array([[ 0,  1],\n",
       "       [ 2,  3],\n",
       "       [ 4,  5],\n",
       "       [ 6,  7],\n",
       "       [ 8,  9],\n",
       "       [10, 11]])"
      ]
     },
     "execution_count": 34,
     "metadata": {},
     "output_type": "execute_result"
    }
   ],
   "source": [
    "ktr"
   ]
  },
  {
   "cell_type": "code",
   "execution_count": 40,
   "metadata": {},
   "outputs": [
    {
     "data": {
      "text/plain": [
       "0"
      ]
     },
     "execution_count": 40,
     "metadata": {},
     "output_type": "execute_result"
    }
   ],
   "source": [
    "ktr.min()"
   ]
  },
  {
   "cell_type": "code",
   "execution_count": 41,
   "metadata": {},
   "outputs": [
    {
     "data": {
      "text/plain": [
       "11"
      ]
     },
     "execution_count": 41,
     "metadata": {},
     "output_type": "execute_result"
    }
   ],
   "source": [
    "ktr.max()"
   ]
  },
  {
   "cell_type": "code",
   "execution_count": 42,
   "metadata": {},
   "outputs": [
    {
     "data": {
      "text/plain": [
       "3.452052529534663"
      ]
     },
     "execution_count": 42,
     "metadata": {},
     "output_type": "execute_result"
    }
   ],
   "source": [
    "ktr.std()"
   ]
  },
  {
   "cell_type": "code",
   "execution_count": 45,
   "metadata": {},
   "outputs": [
    {
     "data": {
      "text/plain": [
       "array([0, 1])"
      ]
     },
     "execution_count": 45,
     "metadata": {},
     "output_type": "execute_result"
    }
   ],
   "source": [
    "np.min(ktr,axis=0)"
   ]
  },
  {
   "cell_type": "code",
   "execution_count": 46,
   "metadata": {},
   "outputs": [
    {
     "data": {
      "text/plain": [
       "array([10, 11])"
      ]
     },
     "execution_count": 46,
     "metadata": {},
     "output_type": "execute_result"
    }
   ],
   "source": [
    "np.max(ktr,axis=0)"
   ]
  },
  {
   "cell_type": "code",
   "execution_count": 47,
   "metadata": {},
   "outputs": [
    {
     "data": {
      "text/plain": [
       "array([ 0,  2,  4,  6,  8, 10])"
      ]
     },
     "execution_count": 47,
     "metadata": {},
     "output_type": "execute_result"
    }
   ],
   "source": [
    "np.min(ktr,axis=1)"
   ]
  },
  {
   "cell_type": "code",
   "execution_count": 48,
   "metadata": {},
   "outputs": [
    {
     "data": {
      "text/plain": [
       "array([ 1,  3,  5,  7,  9, 11])"
      ]
     },
     "execution_count": 48,
     "metadata": {},
     "output_type": "execute_result"
    }
   ],
   "source": [
    "np.max(ktr,axis=1)"
   ]
  },
  {
   "cell_type": "code",
   "execution_count": 51,
   "metadata": {},
   "outputs": [],
   "source": [
    "ln=np.linspace(1,100,5)"
   ]
  },
  {
   "cell_type": "code",
   "execution_count": 53,
   "metadata": {},
   "outputs": [
    {
     "data": {
      "text/plain": [
       "array([  1.  ,  25.75,  50.5 ,  75.25, 100.  ])"
      ]
     },
     "execution_count": 53,
     "metadata": {},
     "output_type": "execute_result"
    }
   ],
   "source": [
    "ln"
   ]
  },
  {
   "cell_type": "code",
   "execution_count": 54,
   "metadata": {},
   "outputs": [],
   "source": [
    "ksr=np.array([0, 1, 2, 3, 4, 5, 6, 7, 8, 9])"
   ]
  },
  {
   "cell_type": "code",
   "execution_count": 55,
   "metadata": {},
   "outputs": [
    {
     "data": {
      "text/plain": [
       "array([0, 1, 2, 3, 4, 5, 6, 7, 8, 9])"
      ]
     },
     "execution_count": 55,
     "metadata": {},
     "output_type": "execute_result"
    }
   ],
   "source": [
    "ksr"
   ]
  },
  {
   "cell_type": "code",
   "execution_count": 57,
   "metadata": {},
   "outputs": [],
   "source": [
    "# Pandas is  lib from\n",
    "import pandas as pd"
   ]
  },
  {
   "cell_type": "code",
   "execution_count": 59,
   "metadata": {},
   "outputs": [],
   "source": [
    "da=pd.Series([1,2,3,4,5])"
   ]
  },
  {
   "cell_type": "code",
   "execution_count": 60,
   "metadata": {},
   "outputs": [
    {
     "data": {
      "text/plain": [
       "0    1\n",
       "1    2\n",
       "2    3\n",
       "3    4\n",
       "4    5\n",
       "dtype: int64"
      ]
     },
     "execution_count": 60,
     "metadata": {},
     "output_type": "execute_result"
    }
   ],
   "source": [
    "da"
   ]
  },
  {
   "cell_type": "code",
   "execution_count": 61,
   "metadata": {},
   "outputs": [],
   "source": [
    "slt=np.arange(5,10,1)\n",
    "da2=pd.Series(slt)"
   ]
  },
  {
   "cell_type": "code",
   "execution_count": 62,
   "metadata": {},
   "outputs": [
    {
     "data": {
      "text/plain": [
       "0    5\n",
       "1    6\n",
       "2    7\n",
       "3    8\n",
       "4    9\n",
       "dtype: int64"
      ]
     },
     "execution_count": 62,
     "metadata": {},
     "output_type": "execute_result"
    }
   ],
   "source": [
    "da2"
   ]
  },
  {
   "cell_type": "code",
   "execution_count": 63,
   "metadata": {},
   "outputs": [
    {
     "data": {
      "text/plain": [
       "array([5, 6, 7, 8, 9])"
      ]
     },
     "execution_count": 63,
     "metadata": {},
     "output_type": "execute_result"
    }
   ],
   "source": [
    "da2.values"
   ]
  },
  {
   "cell_type": "code",
   "execution_count": 64,
   "metadata": {},
   "outputs": [
    {
     "data": {
      "text/plain": [
       "RangeIndex(start=0, stop=5, step=1)"
      ]
     },
     "execution_count": 64,
     "metadata": {},
     "output_type": "execute_result"
    }
   ],
   "source": [
    "da2.index"
   ]
  },
  {
   "cell_type": "code",
   "execution_count": 65,
   "metadata": {},
   "outputs": [
    {
     "data": {
      "text/plain": [
       "1"
      ]
     },
     "execution_count": 65,
     "metadata": {},
     "output_type": "execute_result"
    }
   ],
   "source": [
    "da.min()"
   ]
  },
  {
   "cell_type": "code",
   "execution_count": 66,
   "metadata": {},
   "outputs": [
    {
     "data": {
      "text/plain": [
       "5"
      ]
     },
     "execution_count": 66,
     "metadata": {},
     "output_type": "execute_result"
    }
   ],
   "source": [
    "da.max()"
   ]
  },
  {
   "cell_type": "code",
   "execution_count": 71,
   "metadata": {},
   "outputs": [],
   "source": [
    "si=np.arange(5,10,1)\n",
    "da3=pd.Series(si,index=[\"a\",\"b\",\"c\",\"d\",\"e\"])"
   ]
  },
  {
   "cell_type": "code",
   "execution_count": 70,
   "metadata": {},
   "outputs": [
    {
     "data": {
      "text/plain": [
       "a    5\n",
       "b    6\n",
       "c    7\n",
       "d    8\n",
       "e    9\n",
       "dtype: int64"
      ]
     },
     "execution_count": 70,
     "metadata": {},
     "output_type": "execute_result"
    }
   ],
   "source": [
    "da3"
   ]
  },
  {
   "cell_type": "code",
   "execution_count": 72,
   "metadata": {},
   "outputs": [
    {
     "data": {
      "text/plain": [
       "True"
      ]
     },
     "execution_count": 72,
     "metadata": {},
     "output_type": "execute_result"
    }
   ],
   "source": [
    "da3[4]==da3[\"e\"]"
   ]
  },
  {
   "cell_type": "code",
   "execution_count": 75,
   "metadata": {},
   "outputs": [
    {
     "data": {
      "text/plain": [
       "d    8\n",
       "e    9\n",
       "dtype: int64"
      ]
     },
     "execution_count": 75,
     "metadata": {},
     "output_type": "execute_result"
    }
   ],
   "source": [
    "da3[da3>7]"
   ]
  },
  {
   "cell_type": "code",
   "execution_count": 76,
   "metadata": {},
   "outputs": [
    {
     "name": "stdout",
     "output_type": "stream",
     "text": [
      "9\n"
     ]
    }
   ],
   "source": [
    "print(da3[4])"
   ]
  },
  {
   "cell_type": "code",
   "execution_count": 77,
   "metadata": {},
   "outputs": [],
   "source": [
    "# Data Frames in Pandas\n",
    "# tabler data rows and coluns \n",
    "# 2 dim\n",
    "import pandas as pd"
   ]
  },
  {
   "cell_type": "code",
   "execution_count": 80,
   "metadata": {},
   "outputs": [],
   "source": [
    "ria={\"name\":[\"vidya\",\"surya\",\"swami\",\"sdc\",\"susma\"],\n",
    "     \"dob\":[\"07-05\",\"29-11\",\"17-05\",\"01-05\",\"19-03\"],\n",
    "     \"branch\":[\"cs\",\"ml\",\"ai\",\"ds\",\"cv\"]     \n",
    "     }\n",
    "df=pd.DataFrame(ria)"
   ]
  },
  {
   "cell_type": "code",
   "execution_count": 85,
   "metadata": {},
   "outputs": [
    {
     "data": {
      "text/html": [
       "<div>\n",
       "<style scoped>\n",
       "    .dataframe tbody tr th:only-of-type {\n",
       "        vertical-align: middle;\n",
       "    }\n",
       "\n",
       "    .dataframe tbody tr th {\n",
       "        vertical-align: top;\n",
       "    }\n",
       "\n",
       "    .dataframe thead th {\n",
       "        text-align: right;\n",
       "    }\n",
       "</style>\n",
       "<table border=\"1\" class=\"dataframe\">\n",
       "  <thead>\n",
       "    <tr style=\"text-align: right;\">\n",
       "      <th></th>\n",
       "      <th>name</th>\n",
       "      <th>dob</th>\n",
       "      <th>branch</th>\n",
       "    </tr>\n",
       "  </thead>\n",
       "  <tbody>\n",
       "    <tr>\n",
       "      <th>0</th>\n",
       "      <td>vidya</td>\n",
       "      <td>07-05</td>\n",
       "      <td>cs</td>\n",
       "    </tr>\n",
       "    <tr>\n",
       "      <th>1</th>\n",
       "      <td>surya</td>\n",
       "      <td>29-11</td>\n",
       "      <td>ml</td>\n",
       "    </tr>\n",
       "    <tr>\n",
       "      <th>2</th>\n",
       "      <td>swami</td>\n",
       "      <td>17-05</td>\n",
       "      <td>ai</td>\n",
       "    </tr>\n",
       "  </tbody>\n",
       "</table>\n",
       "</div>"
      ],
      "text/plain": [
       "    name    dob branch\n",
       "0  vidya  07-05     cs\n",
       "1  surya  29-11     ml\n",
       "2  swami  17-05     ai"
      ]
     },
     "execution_count": 85,
     "metadata": {},
     "output_type": "execute_result"
    }
   ],
   "source": [
    "df.head(3)"
   ]
  },
  {
   "cell_type": "code",
   "execution_count": 87,
   "metadata": {},
   "outputs": [
    {
     "data": {
      "text/html": [
       "<div>\n",
       "<style scoped>\n",
       "    .dataframe tbody tr th:only-of-type {\n",
       "        vertical-align: middle;\n",
       "    }\n",
       "\n",
       "    .dataframe tbody tr th {\n",
       "        vertical-align: top;\n",
       "    }\n",
       "\n",
       "    .dataframe thead th {\n",
       "        text-align: right;\n",
       "    }\n",
       "</style>\n",
       "<table border=\"1\" class=\"dataframe\">\n",
       "  <thead>\n",
       "    <tr style=\"text-align: right;\">\n",
       "      <th></th>\n",
       "      <th>name</th>\n",
       "      <th>dob</th>\n",
       "      <th>branch</th>\n",
       "    </tr>\n",
       "  </thead>\n",
       "  <tbody>\n",
       "    <tr>\n",
       "      <th>2</th>\n",
       "      <td>swami</td>\n",
       "      <td>17-05</td>\n",
       "      <td>ai</td>\n",
       "    </tr>\n",
       "    <tr>\n",
       "      <th>3</th>\n",
       "      <td>sdc</td>\n",
       "      <td>01-05</td>\n",
       "      <td>ds</td>\n",
       "    </tr>\n",
       "    <tr>\n",
       "      <th>4</th>\n",
       "      <td>susma</td>\n",
       "      <td>19-03</td>\n",
       "      <td>cv</td>\n",
       "    </tr>\n",
       "  </tbody>\n",
       "</table>\n",
       "</div>"
      ],
      "text/plain": [
       "    name    dob branch\n",
       "2  swami  17-05     ai\n",
       "3    sdc  01-05     ds\n",
       "4  susma  19-03     cv"
      ]
     },
     "execution_count": 87,
     "metadata": {},
     "output_type": "execute_result"
    }
   ],
   "source": [
    "df.tail(3)"
   ]
  },
  {
   "cell_type": "code",
   "execution_count": 90,
   "metadata": {},
   "outputs": [],
   "source": [
    "df1=pd.DataFrame(df,columns=[\"name\",\"dob\",\"branch\",\"mks\"])"
   ]
  },
  {
   "cell_type": "code",
   "execution_count": 91,
   "metadata": {},
   "outputs": [
    {
     "data": {
      "text/html": [
       "<div>\n",
       "<style scoped>\n",
       "    .dataframe tbody tr th:only-of-type {\n",
       "        vertical-align: middle;\n",
       "    }\n",
       "\n",
       "    .dataframe tbody tr th {\n",
       "        vertical-align: top;\n",
       "    }\n",
       "\n",
       "    .dataframe thead th {\n",
       "        text-align: right;\n",
       "    }\n",
       "</style>\n",
       "<table border=\"1\" class=\"dataframe\">\n",
       "  <thead>\n",
       "    <tr style=\"text-align: right;\">\n",
       "      <th></th>\n",
       "      <th>name</th>\n",
       "      <th>dob</th>\n",
       "      <th>branch</th>\n",
       "      <th>mks</th>\n",
       "    </tr>\n",
       "  </thead>\n",
       "  <tbody>\n",
       "    <tr>\n",
       "      <th>0</th>\n",
       "      <td>vidya</td>\n",
       "      <td>07-05</td>\n",
       "      <td>cs</td>\n",
       "      <td>NaN</td>\n",
       "    </tr>\n",
       "    <tr>\n",
       "      <th>1</th>\n",
       "      <td>surya</td>\n",
       "      <td>29-11</td>\n",
       "      <td>ml</td>\n",
       "      <td>NaN</td>\n",
       "    </tr>\n",
       "    <tr>\n",
       "      <th>2</th>\n",
       "      <td>swami</td>\n",
       "      <td>17-05</td>\n",
       "      <td>ai</td>\n",
       "      <td>NaN</td>\n",
       "    </tr>\n",
       "    <tr>\n",
       "      <th>3</th>\n",
       "      <td>sdc</td>\n",
       "      <td>01-05</td>\n",
       "      <td>ds</td>\n",
       "      <td>NaN</td>\n",
       "    </tr>\n",
       "    <tr>\n",
       "      <th>4</th>\n",
       "      <td>susma</td>\n",
       "      <td>19-03</td>\n",
       "      <td>cv</td>\n",
       "      <td>NaN</td>\n",
       "    </tr>\n",
       "  </tbody>\n",
       "</table>\n",
       "</div>"
      ],
      "text/plain": [
       "    name    dob branch  mks\n",
       "0  vidya  07-05     cs  NaN\n",
       "1  surya  29-11     ml  NaN\n",
       "2  swami  17-05     ai  NaN\n",
       "3    sdc  01-05     ds  NaN\n",
       "4  susma  19-03     cv  NaN"
      ]
     },
     "execution_count": 91,
     "metadata": {},
     "output_type": "execute_result"
    }
   ],
   "source": [
    "df1"
   ]
  },
  {
   "cell_type": "code",
   "execution_count": 92,
   "metadata": {},
   "outputs": [
    {
     "data": {
      "text/html": [
       "<div>\n",
       "<style scoped>\n",
       "    .dataframe tbody tr th:only-of-type {\n",
       "        vertical-align: middle;\n",
       "    }\n",
       "\n",
       "    .dataframe tbody tr th {\n",
       "        vertical-align: top;\n",
       "    }\n",
       "\n",
       "    .dataframe thead th {\n",
       "        text-align: right;\n",
       "    }\n",
       "</style>\n",
       "<table border=\"1\" class=\"dataframe\">\n",
       "  <thead>\n",
       "    <tr style=\"text-align: right;\">\n",
       "      <th></th>\n",
       "      <th>name</th>\n",
       "      <th>dob</th>\n",
       "      <th>branch</th>\n",
       "      <th>mks</th>\n",
       "    </tr>\n",
       "  </thead>\n",
       "  <tbody>\n",
       "    <tr>\n",
       "      <th>0</th>\n",
       "      <td>False</td>\n",
       "      <td>False</td>\n",
       "      <td>False</td>\n",
       "      <td>True</td>\n",
       "    </tr>\n",
       "    <tr>\n",
       "      <th>1</th>\n",
       "      <td>False</td>\n",
       "      <td>False</td>\n",
       "      <td>False</td>\n",
       "      <td>True</td>\n",
       "    </tr>\n",
       "    <tr>\n",
       "      <th>2</th>\n",
       "      <td>False</td>\n",
       "      <td>False</td>\n",
       "      <td>False</td>\n",
       "      <td>True</td>\n",
       "    </tr>\n",
       "    <tr>\n",
       "      <th>3</th>\n",
       "      <td>False</td>\n",
       "      <td>False</td>\n",
       "      <td>False</td>\n",
       "      <td>True</td>\n",
       "    </tr>\n",
       "    <tr>\n",
       "      <th>4</th>\n",
       "      <td>False</td>\n",
       "      <td>False</td>\n",
       "      <td>False</td>\n",
       "      <td>True</td>\n",
       "    </tr>\n",
       "  </tbody>\n",
       "</table>\n",
       "</div>"
      ],
      "text/plain": [
       "    name    dob  branch   mks\n",
       "0  False  False   False  True\n",
       "1  False  False   False  True\n",
       "2  False  False   False  True\n",
       "3  False  False   False  True\n",
       "4  False  False   False  True"
      ]
     },
     "execution_count": 92,
     "metadata": {},
     "output_type": "execute_result"
    }
   ],
   "source": [
    "df1.isnull()"
   ]
  },
  {
   "cell_type": "code",
   "execution_count": 93,
   "metadata": {},
   "outputs": [
    {
     "data": {
      "text/plain": [
       "0    vidya\n",
       "1    surya\n",
       "2    swami\n",
       "3      sdc\n",
       "4    susma\n",
       "Name: name, dtype: object"
      ]
     },
     "execution_count": 93,
     "metadata": {},
     "output_type": "execute_result"
    }
   ],
   "source": [
    "df1[\"name\"]"
   ]
  },
  {
   "cell_type": "code",
   "execution_count": 94,
   "metadata": {},
   "outputs": [
    {
     "data": {
      "text/plain": [
       "0    07-05\n",
       "1    29-11\n",
       "2    17-05\n",
       "3    01-05\n",
       "4    19-03\n",
       "Name: dob, dtype: object"
      ]
     },
     "execution_count": 94,
     "metadata": {},
     "output_type": "execute_result"
    }
   ],
   "source": [
    "df1[\"dob\"]"
   ]
  },
  {
   "cell_type": "code",
   "execution_count": 97,
   "metadata": {},
   "outputs": [],
   "source": [
    "df1[\"mks\"]=[12,13,14,15,16]   #np.random.randn(5)"
   ]
  },
  {
   "cell_type": "code",
   "execution_count": 98,
   "metadata": {},
   "outputs": [
    {
     "data": {
      "text/html": [
       "<div>\n",
       "<style scoped>\n",
       "    .dataframe tbody tr th:only-of-type {\n",
       "        vertical-align: middle;\n",
       "    }\n",
       "\n",
       "    .dataframe tbody tr th {\n",
       "        vertical-align: top;\n",
       "    }\n",
       "\n",
       "    .dataframe thead th {\n",
       "        text-align: right;\n",
       "    }\n",
       "</style>\n",
       "<table border=\"1\" class=\"dataframe\">\n",
       "  <thead>\n",
       "    <tr style=\"text-align: right;\">\n",
       "      <th></th>\n",
       "      <th>name</th>\n",
       "      <th>dob</th>\n",
       "      <th>branch</th>\n",
       "      <th>mks</th>\n",
       "    </tr>\n",
       "  </thead>\n",
       "  <tbody>\n",
       "    <tr>\n",
       "      <th>0</th>\n",
       "      <td>vidya</td>\n",
       "      <td>07-05</td>\n",
       "      <td>cs</td>\n",
       "      <td>12</td>\n",
       "    </tr>\n",
       "    <tr>\n",
       "      <th>1</th>\n",
       "      <td>surya</td>\n",
       "      <td>29-11</td>\n",
       "      <td>ml</td>\n",
       "      <td>13</td>\n",
       "    </tr>\n",
       "    <tr>\n",
       "      <th>2</th>\n",
       "      <td>swami</td>\n",
       "      <td>17-05</td>\n",
       "      <td>ai</td>\n",
       "      <td>14</td>\n",
       "    </tr>\n",
       "    <tr>\n",
       "      <th>3</th>\n",
       "      <td>sdc</td>\n",
       "      <td>01-05</td>\n",
       "      <td>ds</td>\n",
       "      <td>15</td>\n",
       "    </tr>\n",
       "    <tr>\n",
       "      <th>4</th>\n",
       "      <td>susma</td>\n",
       "      <td>19-03</td>\n",
       "      <td>cv</td>\n",
       "      <td>16</td>\n",
       "    </tr>\n",
       "  </tbody>\n",
       "</table>\n",
       "</div>"
      ],
      "text/plain": [
       "    name    dob branch  mks\n",
       "0  vidya  07-05     cs   12\n",
       "1  surya  29-11     ml   13\n",
       "2  swami  17-05     ai   14\n",
       "3    sdc  01-05     ds   15\n",
       "4  susma  19-03     cv   16"
      ]
     },
     "execution_count": 98,
     "metadata": {},
     "output_type": "execute_result"
    }
   ],
   "source": [
    "df1"
   ]
  },
  {
   "cell_type": "code",
   "execution_count": 100,
   "metadata": {},
   "outputs": [
    {
     "data": {
      "text/html": [
       "<div>\n",
       "<style scoped>\n",
       "    .dataframe tbody tr th:only-of-type {\n",
       "        vertical-align: middle;\n",
       "    }\n",
       "\n",
       "    .dataframe tbody tr th {\n",
       "        vertical-align: top;\n",
       "    }\n",
       "\n",
       "    .dataframe thead th {\n",
       "        text-align: right;\n",
       "    }\n",
       "</style>\n",
       "<table border=\"1\" class=\"dataframe\">\n",
       "  <thead>\n",
       "    <tr style=\"text-align: right;\">\n",
       "      <th></th>\n",
       "      <th>name</th>\n",
       "      <th>dob</th>\n",
       "      <th>branch</th>\n",
       "      <th>mks</th>\n",
       "    </tr>\n",
       "  </thead>\n",
       "  <tbody>\n",
       "    <tr>\n",
       "      <th>0</th>\n",
       "      <td>vidya</td>\n",
       "      <td>07-05</td>\n",
       "      <td>cs</td>\n",
       "      <td>12</td>\n",
       "    </tr>\n",
       "    <tr>\n",
       "      <th>1</th>\n",
       "      <td>surya</td>\n",
       "      <td>29-11</td>\n",
       "      <td>ml</td>\n",
       "      <td>13</td>\n",
       "    </tr>\n",
       "    <tr>\n",
       "      <th>2</th>\n",
       "      <td>swami</td>\n",
       "      <td>17-05</td>\n",
       "      <td>ai</td>\n",
       "      <td>14</td>\n",
       "    </tr>\n",
       "    <tr>\n",
       "      <th>3</th>\n",
       "      <td>sdc</td>\n",
       "      <td>01-05</td>\n",
       "      <td>ds</td>\n",
       "      <td>15</td>\n",
       "    </tr>\n",
       "  </tbody>\n",
       "</table>\n",
       "</div>"
      ],
      "text/plain": [
       "    name    dob branch  mks\n",
       "0  vidya  07-05     cs   12\n",
       "1  surya  29-11     ml   13\n",
       "2  swami  17-05     ai   14\n",
       "3    sdc  01-05     ds   15"
      ]
     },
     "execution_count": 100,
     "metadata": {},
     "output_type": "execute_result"
    }
   ],
   "source": [
    "df1.drop(4)"
   ]
  },
  {
   "cell_type": "code",
   "execution_count": 104,
   "metadata": {},
   "outputs": [
    {
     "data": {
      "text/html": [
       "<div>\n",
       "<style scoped>\n",
       "    .dataframe tbody tr th:only-of-type {\n",
       "        vertical-align: middle;\n",
       "    }\n",
       "\n",
       "    .dataframe tbody tr th {\n",
       "        vertical-align: top;\n",
       "    }\n",
       "\n",
       "    .dataframe thead th {\n",
       "        text-align: right;\n",
       "    }\n",
       "</style>\n",
       "<table border=\"1\" class=\"dataframe\">\n",
       "  <thead>\n",
       "    <tr style=\"text-align: right;\">\n",
       "      <th></th>\n",
       "      <th>name</th>\n",
       "      <th>dob</th>\n",
       "      <th>branch</th>\n",
       "      <th>mks</th>\n",
       "    </tr>\n",
       "  </thead>\n",
       "  <tbody>\n",
       "    <tr>\n",
       "      <th>0</th>\n",
       "      <td>vidya</td>\n",
       "      <td>07-05</td>\n",
       "      <td>cs</td>\n",
       "      <td>12</td>\n",
       "    </tr>\n",
       "    <tr>\n",
       "      <th>1</th>\n",
       "      <td>surya</td>\n",
       "      <td>29-11</td>\n",
       "      <td>ml</td>\n",
       "      <td>13</td>\n",
       "    </tr>\n",
       "    <tr>\n",
       "      <th>2</th>\n",
       "      <td>swami</td>\n",
       "      <td>17-05</td>\n",
       "      <td>ai</td>\n",
       "      <td>14</td>\n",
       "    </tr>\n",
       "    <tr>\n",
       "      <th>3</th>\n",
       "      <td>sdc</td>\n",
       "      <td>01-05</td>\n",
       "      <td>ds</td>\n",
       "      <td>15</td>\n",
       "    </tr>\n",
       "  </tbody>\n",
       "</table>\n",
       "</div>"
      ],
      "text/plain": [
       "    name    dob branch  mks\n",
       "0  vidya  07-05     cs   12\n",
       "1  surya  29-11     ml   13\n",
       "2  swami  17-05     ai   14\n",
       "3    sdc  01-05     ds   15"
      ]
     },
     "execution_count": 104,
     "metadata": {},
     "output_type": "execute_result"
    }
   ],
   "source": [
    "df1.drop(4)"
   ]
  },
  {
   "cell_type": "code",
   "execution_count": 105,
   "metadata": {},
   "outputs": [
    {
     "name": "stdout",
     "output_type": "stream",
     "text": [
      " 23-06-2021.ipynb     class1.py   \u001b[0m\u001b[01;34m__pycache__\u001b[0m/             \u001b[01;35m'unnamed (2).png'\u001b[0m\r\n",
      " 24-06-2021.ipynb     \u001b[01;34mdata\u001b[0m/       python-21-06-2021.ipynb   \u001b[01;35munnamed.png\u001b[0m\r\n",
      " 25-06-2021.ipynb     ksrcs.csv   \u001b[01;35munnamed1.jpg\u001b[0m              untitled1.txt\r\n",
      " 26-june-2020.ipynb   module.py  \u001b[01;35m'unnamed (1).png'\u001b[0m          untitled.txt\r\n"
     ]
    }
   ],
   "source": [
    "ls"
   ]
  },
  {
   "cell_type": "code",
   "execution_count": 106,
   "metadata": {},
   "outputs": [],
   "source": [
    "# read_csv()\n",
    "# read_json()\n",
    "# read_excel()"
   ]
  },
  {
   "cell_type": "code",
   "execution_count": 107,
   "metadata": {},
   "outputs": [
    {
     "data": {
      "text/html": [
       "<div>\n",
       "<style scoped>\n",
       "    .dataframe tbody tr th:only-of-type {\n",
       "        vertical-align: middle;\n",
       "    }\n",
       "\n",
       "    .dataframe tbody tr th {\n",
       "        vertical-align: top;\n",
       "    }\n",
       "\n",
       "    .dataframe thead th {\n",
       "        text-align: right;\n",
       "    }\n",
       "</style>\n",
       "<table border=\"1\" class=\"dataframe\">\n",
       "  <thead>\n",
       "    <tr style=\"text-align: right;\">\n",
       "      <th></th>\n",
       "      <th>Roll-No</th>\n",
       "      <th>Name</th>\n",
       "      <th>Python</th>\n",
       "      <th>C</th>\n",
       "      <th>Java</th>\n",
       "      <th>DS</th>\n",
       "      <th>OS</th>\n",
       "      <th>DBMS</th>\n",
       "      <th>Marks</th>\n",
       "      <th>Grade</th>\n",
       "    </tr>\n",
       "  </thead>\n",
       "  <tbody>\n",
       "    <tr>\n",
       "      <th>0</th>\n",
       "      <td>20JR1A0590</td>\n",
       "      <td>M.Sushma</td>\n",
       "      <td>4</td>\n",
       "      <td>97</td>\n",
       "      <td>4</td>\n",
       "      <td>88</td>\n",
       "      <td>41</td>\n",
       "      <td>52</td>\n",
       "      <td>286</td>\n",
       "      <td>Pass</td>\n",
       "    </tr>\n",
       "    <tr>\n",
       "      <th>1</th>\n",
       "      <td>20JR1A0591</td>\n",
       "      <td>Nagumothu Navya</td>\n",
       "      <td>80</td>\n",
       "      <td>77</td>\n",
       "      <td>49</td>\n",
       "      <td>45</td>\n",
       "      <td>70</td>\n",
       "      <td>0</td>\n",
       "      <td>321</td>\n",
       "      <td>Pass</td>\n",
       "    </tr>\n",
       "    <tr>\n",
       "      <th>2</th>\n",
       "      <td>20JR1A0592</td>\n",
       "      <td>N.Lakshmi Vasavi</td>\n",
       "      <td>43</td>\n",
       "      <td>69</td>\n",
       "      <td>21</td>\n",
       "      <td>8</td>\n",
       "      <td>93</td>\n",
       "      <td>91</td>\n",
       "      <td>325</td>\n",
       "      <td>Pass</td>\n",
       "    </tr>\n",
       "    <tr>\n",
       "      <th>3</th>\n",
       "      <td>20JR1A0593</td>\n",
       "      <td>Sushma Namburi</td>\n",
       "      <td>34</td>\n",
       "      <td>72</td>\n",
       "      <td>97</td>\n",
       "      <td>42</td>\n",
       "      <td>33</td>\n",
       "      <td>71</td>\n",
       "      <td>349</td>\n",
       "      <td>Pass</td>\n",
       "    </tr>\n",
       "    <tr>\n",
       "      <th>4</th>\n",
       "      <td>20JR1A0594</td>\n",
       "      <td>N.lakshmi Chandana</td>\n",
       "      <td>93</td>\n",
       "      <td>95</td>\n",
       "      <td>14</td>\n",
       "      <td>10</td>\n",
       "      <td>73</td>\n",
       "      <td>20</td>\n",
       "      <td>305</td>\n",
       "      <td>Pass</td>\n",
       "    </tr>\n",
       "    <tr>\n",
       "      <th>...</th>\n",
       "      <td>...</td>\n",
       "      <td>...</td>\n",
       "      <td>...</td>\n",
       "      <td>...</td>\n",
       "      <td>...</td>\n",
       "      <td>...</td>\n",
       "      <td>...</td>\n",
       "      <td>...</td>\n",
       "      <td>...</td>\n",
       "      <td>...</td>\n",
       "    </tr>\n",
       "    <tr>\n",
       "      <th>156</th>\n",
       "      <td>20JR1A4442</td>\n",
       "      <td>VIVEK</td>\n",
       "      <td>66</td>\n",
       "      <td>87</td>\n",
       "      <td>2</td>\n",
       "      <td>79</td>\n",
       "      <td>92</td>\n",
       "      <td>16</td>\n",
       "      <td>342</td>\n",
       "      <td>Pass</td>\n",
       "    </tr>\n",
       "    <tr>\n",
       "      <th>157</th>\n",
       "      <td>20JR1AO5J2</td>\n",
       "      <td>Charan Siva Sai</td>\n",
       "      <td>73</td>\n",
       "      <td>58</td>\n",
       "      <td>33</td>\n",
       "      <td>56</td>\n",
       "      <td>56</td>\n",
       "      <td>19</td>\n",
       "      <td>295</td>\n",
       "      <td>Pass</td>\n",
       "    </tr>\n",
       "    <tr>\n",
       "      <th>158</th>\n",
       "      <td>20jr1A0518</td>\n",
       "      <td>anusha</td>\n",
       "      <td>33</td>\n",
       "      <td>61</td>\n",
       "      <td>26</td>\n",
       "      <td>53</td>\n",
       "      <td>29</td>\n",
       "      <td>18</td>\n",
       "      <td>220</td>\n",
       "      <td>Pass</td>\n",
       "    </tr>\n",
       "    <tr>\n",
       "      <th>159</th>\n",
       "      <td>20jr1a0552</td>\n",
       "      <td>Abc</td>\n",
       "      <td>68</td>\n",
       "      <td>26</td>\n",
       "      <td>18</td>\n",
       "      <td>20</td>\n",
       "      <td>24</td>\n",
       "      <td>70</td>\n",
       "      <td>226</td>\n",
       "      <td>Pass</td>\n",
       "    </tr>\n",
       "    <tr>\n",
       "      <th>160</th>\n",
       "      <td>20jr1ao5d8</td>\n",
       "      <td>hello</td>\n",
       "      <td>16</td>\n",
       "      <td>94</td>\n",
       "      <td>98</td>\n",
       "      <td>9</td>\n",
       "      <td>58</td>\n",
       "      <td>10</td>\n",
       "      <td>285</td>\n",
       "      <td>Pass</td>\n",
       "    </tr>\n",
       "  </tbody>\n",
       "</table>\n",
       "<p>161 rows × 10 columns</p>\n",
       "</div>"
      ],
      "text/plain": [
       "        Roll-No                Name  Python   C  Java  DS  OS  DBMS  Marks  \\\n",
       "0    20JR1A0590            M.Sushma       4  97     4  88  41    52    286   \n",
       "1    20JR1A0591     Nagumothu Navya      80  77    49  45  70     0    321   \n",
       "2    20JR1A0592    N.Lakshmi Vasavi      43  69    21   8  93    91    325   \n",
       "3    20JR1A0593      Sushma Namburi      34  72    97  42  33    71    349   \n",
       "4    20JR1A0594  N.lakshmi Chandana      93  95    14  10  73    20    305   \n",
       "..          ...                 ...     ...  ..   ...  ..  ..   ...    ...   \n",
       "156  20JR1A4442               VIVEK      66  87     2  79  92    16    342   \n",
       "157  20JR1AO5J2     Charan Siva Sai      73  58    33  56  56    19    295   \n",
       "158  20jr1A0518              anusha      33  61    26  53  29    18    220   \n",
       "159  20jr1a0552                 Abc      68  26    18  20  24    70    226   \n",
       "160  20jr1ao5d8               hello      16  94    98   9  58    10    285   \n",
       "\n",
       "    Grade  \n",
       "0    Pass  \n",
       "1    Pass  \n",
       "2    Pass  \n",
       "3    Pass  \n",
       "4    Pass  \n",
       "..    ...  \n",
       "156  Pass  \n",
       "157  Pass  \n",
       "158  Pass  \n",
       "159  Pass  \n",
       "160  Pass  \n",
       "\n",
       "[161 rows x 10 columns]"
      ]
     },
     "execution_count": 107,
     "metadata": {},
     "output_type": "execute_result"
    }
   ],
   "source": [
    "data=pd.read_csv(\"ksrcs.csv\")\n",
    "data"
   ]
  },
  {
   "cell_type": "code",
   "execution_count": 109,
   "metadata": {},
   "outputs": [
    {
     "data": {
      "text/html": [
       "<div>\n",
       "<style scoped>\n",
       "    .dataframe tbody tr th:only-of-type {\n",
       "        vertical-align: middle;\n",
       "    }\n",
       "\n",
       "    .dataframe tbody tr th {\n",
       "        vertical-align: top;\n",
       "    }\n",
       "\n",
       "    .dataframe thead th {\n",
       "        text-align: right;\n",
       "    }\n",
       "</style>\n",
       "<table border=\"1\" class=\"dataframe\">\n",
       "  <thead>\n",
       "    <tr style=\"text-align: right;\">\n",
       "      <th></th>\n",
       "      <th>Roll-No</th>\n",
       "      <th>Name</th>\n",
       "      <th>Python</th>\n",
       "      <th>C</th>\n",
       "      <th>Java</th>\n",
       "      <th>DS</th>\n",
       "      <th>OS</th>\n",
       "      <th>DBMS</th>\n",
       "      <th>Marks</th>\n",
       "      <th>Grade</th>\n",
       "    </tr>\n",
       "  </thead>\n",
       "  <tbody>\n",
       "    <tr>\n",
       "      <th>0</th>\n",
       "      <td>20JR1A0590</td>\n",
       "      <td>M.Sushma</td>\n",
       "      <td>4</td>\n",
       "      <td>97</td>\n",
       "      <td>4</td>\n",
       "      <td>88</td>\n",
       "      <td>41</td>\n",
       "      <td>52</td>\n",
       "      <td>286</td>\n",
       "      <td>Pass</td>\n",
       "    </tr>\n",
       "    <tr>\n",
       "      <th>1</th>\n",
       "      <td>20JR1A0591</td>\n",
       "      <td>Nagumothu Navya</td>\n",
       "      <td>80</td>\n",
       "      <td>77</td>\n",
       "      <td>49</td>\n",
       "      <td>45</td>\n",
       "      <td>70</td>\n",
       "      <td>0</td>\n",
       "      <td>321</td>\n",
       "      <td>Pass</td>\n",
       "    </tr>\n",
       "    <tr>\n",
       "      <th>2</th>\n",
       "      <td>20JR1A0592</td>\n",
       "      <td>N.Lakshmi Vasavi</td>\n",
       "      <td>43</td>\n",
       "      <td>69</td>\n",
       "      <td>21</td>\n",
       "      <td>8</td>\n",
       "      <td>93</td>\n",
       "      <td>91</td>\n",
       "      <td>325</td>\n",
       "      <td>Pass</td>\n",
       "    </tr>\n",
       "    <tr>\n",
       "      <th>3</th>\n",
       "      <td>20JR1A0593</td>\n",
       "      <td>Sushma Namburi</td>\n",
       "      <td>34</td>\n",
       "      <td>72</td>\n",
       "      <td>97</td>\n",
       "      <td>42</td>\n",
       "      <td>33</td>\n",
       "      <td>71</td>\n",
       "      <td>349</td>\n",
       "      <td>Pass</td>\n",
       "    </tr>\n",
       "    <tr>\n",
       "      <th>4</th>\n",
       "      <td>20JR1A0594</td>\n",
       "      <td>N.lakshmi Chandana</td>\n",
       "      <td>93</td>\n",
       "      <td>95</td>\n",
       "      <td>14</td>\n",
       "      <td>10</td>\n",
       "      <td>73</td>\n",
       "      <td>20</td>\n",
       "      <td>305</td>\n",
       "      <td>Pass</td>\n",
       "    </tr>\n",
       "    <tr>\n",
       "      <th>5</th>\n",
       "      <td>20JR1A0595</td>\n",
       "      <td>swapna</td>\n",
       "      <td>70</td>\n",
       "      <td>22</td>\n",
       "      <td>37</td>\n",
       "      <td>41</td>\n",
       "      <td>1</td>\n",
       "      <td>16</td>\n",
       "      <td>187</td>\n",
       "      <td>Fail</td>\n",
       "    </tr>\n",
       "    <tr>\n",
       "      <th>6</th>\n",
       "      <td>20JR1A0596</td>\n",
       "      <td>GSP SRIKANTH</td>\n",
       "      <td>95</td>\n",
       "      <td>65</td>\n",
       "      <td>2</td>\n",
       "      <td>86</td>\n",
       "      <td>91</td>\n",
       "      <td>66</td>\n",
       "      <td>405</td>\n",
       "      <td>Pass</td>\n",
       "    </tr>\n",
       "    <tr>\n",
       "      <th>7</th>\n",
       "      <td>20JR1A0597</td>\n",
       "      <td>prakash</td>\n",
       "      <td>72</td>\n",
       "      <td>42</td>\n",
       "      <td>54</td>\n",
       "      <td>45</td>\n",
       "      <td>98</td>\n",
       "      <td>84</td>\n",
       "      <td>395</td>\n",
       "      <td>Pass</td>\n",
       "    </tr>\n",
       "    <tr>\n",
       "      <th>8</th>\n",
       "      <td>20JR1A0598</td>\n",
       "      <td>harsha Ravuri</td>\n",
       "      <td>86</td>\n",
       "      <td>23</td>\n",
       "      <td>82</td>\n",
       "      <td>27</td>\n",
       "      <td>77</td>\n",
       "      <td>4</td>\n",
       "      <td>299</td>\n",
       "      <td>Pass</td>\n",
       "    </tr>\n",
       "    <tr>\n",
       "      <th>9</th>\n",
       "      <td>20JR1A05A2</td>\n",
       "      <td>K Nagendra Babu</td>\n",
       "      <td>25</td>\n",
       "      <td>100</td>\n",
       "      <td>72</td>\n",
       "      <td>56</td>\n",
       "      <td>6</td>\n",
       "      <td>63</td>\n",
       "      <td>322</td>\n",
       "      <td>Pass</td>\n",
       "    </tr>\n",
       "    <tr>\n",
       "      <th>10</th>\n",
       "      <td>20JR1A05A3</td>\n",
       "      <td>NAVEEN</td>\n",
       "      <td>54</td>\n",
       "      <td>31</td>\n",
       "      <td>80</td>\n",
       "      <td>15</td>\n",
       "      <td>52</td>\n",
       "      <td>53</td>\n",
       "      <td>285</td>\n",
       "      <td>Pass</td>\n",
       "    </tr>\n",
       "    <tr>\n",
       "      <th>11</th>\n",
       "      <td>20JR1A05A5</td>\n",
       "      <td>K.SHOWRIBABU</td>\n",
       "      <td>46</td>\n",
       "      <td>91</td>\n",
       "      <td>32</td>\n",
       "      <td>83</td>\n",
       "      <td>65</td>\n",
       "      <td>2</td>\n",
       "      <td>319</td>\n",
       "      <td>Pass</td>\n",
       "    </tr>\n",
       "    <tr>\n",
       "      <th>12</th>\n",
       "      <td>20JR1A05A6</td>\n",
       "      <td>k.Prasanth Kumar</td>\n",
       "      <td>28</td>\n",
       "      <td>45</td>\n",
       "      <td>55</td>\n",
       "      <td>22</td>\n",
       "      <td>12</td>\n",
       "      <td>64</td>\n",
       "      <td>226</td>\n",
       "      <td>Pass</td>\n",
       "    </tr>\n",
       "    <tr>\n",
       "      <th>13</th>\n",
       "      <td>20JR1A05A8</td>\n",
       "      <td>Ansar</td>\n",
       "      <td>23</td>\n",
       "      <td>42</td>\n",
       "      <td>94</td>\n",
       "      <td>59</td>\n",
       "      <td>34</td>\n",
       "      <td>89</td>\n",
       "      <td>341</td>\n",
       "      <td>Pass</td>\n",
       "    </tr>\n",
       "    <tr>\n",
       "      <th>14</th>\n",
       "      <td>20JR1A05B0</td>\n",
       "      <td>K.SRAVAN</td>\n",
       "      <td>27</td>\n",
       "      <td>96</td>\n",
       "      <td>30</td>\n",
       "      <td>16</td>\n",
       "      <td>53</td>\n",
       "      <td>11</td>\n",
       "      <td>233</td>\n",
       "      <td>Pass</td>\n",
       "    </tr>\n",
       "    <tr>\n",
       "      <th>15</th>\n",
       "      <td>20JR1A05B1</td>\n",
       "      <td>RAHUL_KITS</td>\n",
       "      <td>2</td>\n",
       "      <td>44</td>\n",
       "      <td>98</td>\n",
       "      <td>54</td>\n",
       "      <td>59</td>\n",
       "      <td>43</td>\n",
       "      <td>300</td>\n",
       "      <td>Pass</td>\n",
       "    </tr>\n",
       "    <tr>\n",
       "      <th>16</th>\n",
       "      <td>20JR1A05B2</td>\n",
       "      <td>SIDDHARDHA REDDY</td>\n",
       "      <td>99</td>\n",
       "      <td>69</td>\n",
       "      <td>8</td>\n",
       "      <td>43</td>\n",
       "      <td>10</td>\n",
       "      <td>86</td>\n",
       "      <td>315</td>\n",
       "      <td>Pass</td>\n",
       "    </tr>\n",
       "    <tr>\n",
       "      <th>17</th>\n",
       "      <td>20JR1A05B3</td>\n",
       "      <td>L.GOPI</td>\n",
       "      <td>31</td>\n",
       "      <td>6</td>\n",
       "      <td>1</td>\n",
       "      <td>33</td>\n",
       "      <td>9</td>\n",
       "      <td>30</td>\n",
       "      <td>110</td>\n",
       "      <td>Fail</td>\n",
       "    </tr>\n",
       "    <tr>\n",
       "      <th>18</th>\n",
       "      <td>20JR1A05B4</td>\n",
       "      <td>M.Anil</td>\n",
       "      <td>38</td>\n",
       "      <td>1</td>\n",
       "      <td>21</td>\n",
       "      <td>89</td>\n",
       "      <td>9</td>\n",
       "      <td>39</td>\n",
       "      <td>197</td>\n",
       "      <td>Fail</td>\n",
       "    </tr>\n",
       "    <tr>\n",
       "      <th>19</th>\n",
       "      <td>20JR1A05B5</td>\n",
       "      <td>MAHANKALI SAI</td>\n",
       "      <td>8</td>\n",
       "      <td>2</td>\n",
       "      <td>13</td>\n",
       "      <td>74</td>\n",
       "      <td>96</td>\n",
       "      <td>28</td>\n",
       "      <td>221</td>\n",
       "      <td>Pass</td>\n",
       "    </tr>\n",
       "  </tbody>\n",
       "</table>\n",
       "</div>"
      ],
      "text/plain": [
       "       Roll-No                Name  Python    C  Java  DS  OS  DBMS  Marks  \\\n",
       "0   20JR1A0590            M.Sushma       4   97     4  88  41    52    286   \n",
       "1   20JR1A0591     Nagumothu Navya      80   77    49  45  70     0    321   \n",
       "2   20JR1A0592    N.Lakshmi Vasavi      43   69    21   8  93    91    325   \n",
       "3   20JR1A0593      Sushma Namburi      34   72    97  42  33    71    349   \n",
       "4   20JR1A0594  N.lakshmi Chandana      93   95    14  10  73    20    305   \n",
       "5   20JR1A0595              swapna      70   22    37  41   1    16    187   \n",
       "6   20JR1A0596        GSP SRIKANTH      95   65     2  86  91    66    405   \n",
       "7   20JR1A0597             prakash      72   42    54  45  98    84    395   \n",
       "8   20JR1A0598       harsha Ravuri      86   23    82  27  77     4    299   \n",
       "9   20JR1A05A2     K Nagendra Babu      25  100    72  56   6    63    322   \n",
       "10  20JR1A05A3              NAVEEN      54   31    80  15  52    53    285   \n",
       "11  20JR1A05A5        K.SHOWRIBABU      46   91    32  83  65     2    319   \n",
       "12  20JR1A05A6    k.Prasanth Kumar      28   45    55  22  12    64    226   \n",
       "13  20JR1A05A8               Ansar      23   42    94  59  34    89    341   \n",
       "14  20JR1A05B0            K.SRAVAN      27   96    30  16  53    11    233   \n",
       "15  20JR1A05B1          RAHUL_KITS       2   44    98  54  59    43    300   \n",
       "16  20JR1A05B2    SIDDHARDHA REDDY      99   69     8  43  10    86    315   \n",
       "17  20JR1A05B3              L.GOPI      31    6     1  33   9    30    110   \n",
       "18  20JR1A05B4              M.Anil      38    1    21  89   9    39    197   \n",
       "19  20JR1A05B5       MAHANKALI SAI       8    2    13  74  96    28    221   \n",
       "\n",
       "   Grade  \n",
       "0   Pass  \n",
       "1   Pass  \n",
       "2   Pass  \n",
       "3   Pass  \n",
       "4   Pass  \n",
       "5   Fail  \n",
       "6   Pass  \n",
       "7   Pass  \n",
       "8   Pass  \n",
       "9   Pass  \n",
       "10  Pass  \n",
       "11  Pass  \n",
       "12  Pass  \n",
       "13  Pass  \n",
       "14  Pass  \n",
       "15  Pass  \n",
       "16  Pass  \n",
       "17  Fail  \n",
       "18  Fail  \n",
       "19  Pass  "
      ]
     },
     "execution_count": 109,
     "metadata": {},
     "output_type": "execute_result"
    }
   ],
   "source": [
    "data.head(20)"
   ]
  },
  {
   "cell_type": "code",
   "execution_count": 110,
   "metadata": {},
   "outputs": [
    {
     "data": {
      "text/html": [
       "<div>\n",
       "<style scoped>\n",
       "    .dataframe tbody tr th:only-of-type {\n",
       "        vertical-align: middle;\n",
       "    }\n",
       "\n",
       "    .dataframe tbody tr th {\n",
       "        vertical-align: top;\n",
       "    }\n",
       "\n",
       "    .dataframe thead th {\n",
       "        text-align: right;\n",
       "    }\n",
       "</style>\n",
       "<table border=\"1\" class=\"dataframe\">\n",
       "  <thead>\n",
       "    <tr style=\"text-align: right;\">\n",
       "      <th></th>\n",
       "      <th>Roll-No</th>\n",
       "      <th>Name</th>\n",
       "      <th>Python</th>\n",
       "      <th>C</th>\n",
       "      <th>Java</th>\n",
       "      <th>DS</th>\n",
       "      <th>OS</th>\n",
       "      <th>DBMS</th>\n",
       "      <th>Marks</th>\n",
       "      <th>Grade</th>\n",
       "    </tr>\n",
       "  </thead>\n",
       "  <tbody>\n",
       "    <tr>\n",
       "      <th>151</th>\n",
       "      <td>20JR1A4362</td>\n",
       "      <td>SK.B.SHOHEB AKTHAR</td>\n",
       "      <td>81</td>\n",
       "      <td>95</td>\n",
       "      <td>27</td>\n",
       "      <td>27</td>\n",
       "      <td>34</td>\n",
       "      <td>88</td>\n",
       "      <td>352</td>\n",
       "      <td>Pass</td>\n",
       "    </tr>\n",
       "    <tr>\n",
       "      <th>152</th>\n",
       "      <td>20JR1A4363</td>\n",
       "      <td>MUNEER</td>\n",
       "      <td>46</td>\n",
       "      <td>57</td>\n",
       "      <td>55</td>\n",
       "      <td>9</td>\n",
       "      <td>70</td>\n",
       "      <td>50</td>\n",
       "      <td>287</td>\n",
       "      <td>Pass</td>\n",
       "    </tr>\n",
       "    <tr>\n",
       "      <th>153</th>\n",
       "      <td>20JR1A4364</td>\n",
       "      <td>Naga Sai Durgesh Singamsetty</td>\n",
       "      <td>65</td>\n",
       "      <td>62</td>\n",
       "      <td>9</td>\n",
       "      <td>54</td>\n",
       "      <td>46</td>\n",
       "      <td>67</td>\n",
       "      <td>303</td>\n",
       "      <td>Pass</td>\n",
       "    </tr>\n",
       "    <tr>\n",
       "      <th>154</th>\n",
       "      <td>20JR1A4431</td>\n",
       "      <td>Sakhamuri. Lathasri</td>\n",
       "      <td>65</td>\n",
       "      <td>89</td>\n",
       "      <td>57</td>\n",
       "      <td>32</td>\n",
       "      <td>82</td>\n",
       "      <td>80</td>\n",
       "      <td>405</td>\n",
       "      <td>Pass</td>\n",
       "    </tr>\n",
       "    <tr>\n",
       "      <th>155</th>\n",
       "      <td>20JR1A4435</td>\n",
       "      <td>Rushitha</td>\n",
       "      <td>17</td>\n",
       "      <td>61</td>\n",
       "      <td>83</td>\n",
       "      <td>12</td>\n",
       "      <td>3</td>\n",
       "      <td>67</td>\n",
       "      <td>243</td>\n",
       "      <td>Pass</td>\n",
       "    </tr>\n",
       "    <tr>\n",
       "      <th>156</th>\n",
       "      <td>20JR1A4442</td>\n",
       "      <td>VIVEK</td>\n",
       "      <td>66</td>\n",
       "      <td>87</td>\n",
       "      <td>2</td>\n",
       "      <td>79</td>\n",
       "      <td>92</td>\n",
       "      <td>16</td>\n",
       "      <td>342</td>\n",
       "      <td>Pass</td>\n",
       "    </tr>\n",
       "    <tr>\n",
       "      <th>157</th>\n",
       "      <td>20JR1AO5J2</td>\n",
       "      <td>Charan Siva Sai</td>\n",
       "      <td>73</td>\n",
       "      <td>58</td>\n",
       "      <td>33</td>\n",
       "      <td>56</td>\n",
       "      <td>56</td>\n",
       "      <td>19</td>\n",
       "      <td>295</td>\n",
       "      <td>Pass</td>\n",
       "    </tr>\n",
       "    <tr>\n",
       "      <th>158</th>\n",
       "      <td>20jr1A0518</td>\n",
       "      <td>anusha</td>\n",
       "      <td>33</td>\n",
       "      <td>61</td>\n",
       "      <td>26</td>\n",
       "      <td>53</td>\n",
       "      <td>29</td>\n",
       "      <td>18</td>\n",
       "      <td>220</td>\n",
       "      <td>Pass</td>\n",
       "    </tr>\n",
       "    <tr>\n",
       "      <th>159</th>\n",
       "      <td>20jr1a0552</td>\n",
       "      <td>Abc</td>\n",
       "      <td>68</td>\n",
       "      <td>26</td>\n",
       "      <td>18</td>\n",
       "      <td>20</td>\n",
       "      <td>24</td>\n",
       "      <td>70</td>\n",
       "      <td>226</td>\n",
       "      <td>Pass</td>\n",
       "    </tr>\n",
       "    <tr>\n",
       "      <th>160</th>\n",
       "      <td>20jr1ao5d8</td>\n",
       "      <td>hello</td>\n",
       "      <td>16</td>\n",
       "      <td>94</td>\n",
       "      <td>98</td>\n",
       "      <td>9</td>\n",
       "      <td>58</td>\n",
       "      <td>10</td>\n",
       "      <td>285</td>\n",
       "      <td>Pass</td>\n",
       "    </tr>\n",
       "  </tbody>\n",
       "</table>\n",
       "</div>"
      ],
      "text/plain": [
       "        Roll-No                          Name  Python   C  Java  DS  OS  DBMS  \\\n",
       "151  20JR1A4362            SK.B.SHOHEB AKTHAR      81  95    27  27  34    88   \n",
       "152  20JR1A4363                        MUNEER      46  57    55   9  70    50   \n",
       "153  20JR1A4364  Naga Sai Durgesh Singamsetty      65  62     9  54  46    67   \n",
       "154  20JR1A4431           Sakhamuri. Lathasri      65  89    57  32  82    80   \n",
       "155  20JR1A4435                      Rushitha      17  61    83  12   3    67   \n",
       "156  20JR1A4442                         VIVEK      66  87     2  79  92    16   \n",
       "157  20JR1AO5J2               Charan Siva Sai      73  58    33  56  56    19   \n",
       "158  20jr1A0518                        anusha      33  61    26  53  29    18   \n",
       "159  20jr1a0552                           Abc      68  26    18  20  24    70   \n",
       "160  20jr1ao5d8                         hello      16  94    98   9  58    10   \n",
       "\n",
       "     Marks Grade  \n",
       "151    352  Pass  \n",
       "152    287  Pass  \n",
       "153    303  Pass  \n",
       "154    405  Pass  \n",
       "155    243  Pass  \n",
       "156    342  Pass  \n",
       "157    295  Pass  \n",
       "158    220  Pass  \n",
       "159    226  Pass  \n",
       "160    285  Pass  "
      ]
     },
     "execution_count": 110,
     "metadata": {},
     "output_type": "execute_result"
    }
   ],
   "source": [
    "data.tail(10)"
   ]
  },
  {
   "cell_type": "code",
   "execution_count": 117,
   "metadata": {},
   "outputs": [
    {
     "data": {
      "text/plain": [
       "Roll-No    20JR1A0590\n",
       "Python              0\n",
       "C                   0\n",
       "Java                0\n",
       "DS                  1\n",
       "OS                  0\n",
       "DBMS                0\n",
       "Marks             107\n",
       "Grade            Fail\n",
       "dtype: object"
      ]
     },
     "execution_count": 117,
     "metadata": {},
     "output_type": "execute_result"
    }
   ],
   "source": [
    "data.min()"
   ]
  },
  {
   "cell_type": "code",
   "execution_count": 118,
   "metadata": {},
   "outputs": [
    {
     "name": "stdout",
     "output_type": "stream",
     "text": [
      "<class 'pandas.core.frame.DataFrame'>\n",
      "RangeIndex: 161 entries, 0 to 160\n",
      "Data columns (total 10 columns):\n",
      " #   Column   Non-Null Count  Dtype \n",
      "---  ------   --------------  ----- \n",
      " 0   Roll-No  161 non-null    object\n",
      " 1   Name     154 non-null    object\n",
      " 2   Python   161 non-null    int64 \n",
      " 3   C        161 non-null    int64 \n",
      " 4   Java     161 non-null    int64 \n",
      " 5   DS       161 non-null    int64 \n",
      " 6   OS       161 non-null    int64 \n",
      " 7   DBMS     161 non-null    int64 \n",
      " 8   Marks    161 non-null    int64 \n",
      " 9   Grade    161 non-null    object\n",
      "dtypes: int64(7), object(3)\n",
      "memory usage: 12.7+ KB\n"
     ]
    }
   ],
   "source": [
    "data.info()"
   ]
  },
  {
   "cell_type": "code",
   "execution_count": 119,
   "metadata": {},
   "outputs": [
    {
     "data": {
      "text/html": [
       "<div>\n",
       "<style scoped>\n",
       "    .dataframe tbody tr th:only-of-type {\n",
       "        vertical-align: middle;\n",
       "    }\n",
       "\n",
       "    .dataframe tbody tr th {\n",
       "        vertical-align: top;\n",
       "    }\n",
       "\n",
       "    .dataframe thead th {\n",
       "        text-align: right;\n",
       "    }\n",
       "</style>\n",
       "<table border=\"1\" class=\"dataframe\">\n",
       "  <thead>\n",
       "    <tr style=\"text-align: right;\">\n",
       "      <th></th>\n",
       "      <th>Python</th>\n",
       "      <th>C</th>\n",
       "      <th>Java</th>\n",
       "      <th>DS</th>\n",
       "      <th>OS</th>\n",
       "      <th>DBMS</th>\n",
       "      <th>Marks</th>\n",
       "    </tr>\n",
       "  </thead>\n",
       "  <tbody>\n",
       "    <tr>\n",
       "      <th>count</th>\n",
       "      <td>161.000000</td>\n",
       "      <td>161.000000</td>\n",
       "      <td>161.000000</td>\n",
       "      <td>161.000000</td>\n",
       "      <td>161.000000</td>\n",
       "      <td>161.000000</td>\n",
       "      <td>161.000000</td>\n",
       "    </tr>\n",
       "    <tr>\n",
       "      <th>mean</th>\n",
       "      <td>51.664596</td>\n",
       "      <td>48.503106</td>\n",
       "      <td>45.776398</td>\n",
       "      <td>42.273292</td>\n",
       "      <td>52.093168</td>\n",
       "      <td>49.043478</td>\n",
       "      <td>289.354037</td>\n",
       "    </tr>\n",
       "    <tr>\n",
       "      <th>std</th>\n",
       "      <td>29.337677</td>\n",
       "      <td>29.097277</td>\n",
       "      <td>30.168894</td>\n",
       "      <td>28.250882</td>\n",
       "      <td>29.633132</td>\n",
       "      <td>29.139181</td>\n",
       "      <td>67.901161</td>\n",
       "    </tr>\n",
       "    <tr>\n",
       "      <th>min</th>\n",
       "      <td>0.000000</td>\n",
       "      <td>0.000000</td>\n",
       "      <td>0.000000</td>\n",
       "      <td>1.000000</td>\n",
       "      <td>0.000000</td>\n",
       "      <td>0.000000</td>\n",
       "      <td>107.000000</td>\n",
       "    </tr>\n",
       "    <tr>\n",
       "      <th>25%</th>\n",
       "      <td>27.000000</td>\n",
       "      <td>23.000000</td>\n",
       "      <td>20.000000</td>\n",
       "      <td>17.000000</td>\n",
       "      <td>29.000000</td>\n",
       "      <td>26.000000</td>\n",
       "      <td>234.000000</td>\n",
       "    </tr>\n",
       "    <tr>\n",
       "      <th>50%</th>\n",
       "      <td>50.000000</td>\n",
       "      <td>47.000000</td>\n",
       "      <td>49.000000</td>\n",
       "      <td>40.000000</td>\n",
       "      <td>52.000000</td>\n",
       "      <td>49.000000</td>\n",
       "      <td>295.000000</td>\n",
       "    </tr>\n",
       "    <tr>\n",
       "      <th>75%</th>\n",
       "      <td>80.000000</td>\n",
       "      <td>70.000000</td>\n",
       "      <td>69.000000</td>\n",
       "      <td>65.000000</td>\n",
       "      <td>79.000000</td>\n",
       "      <td>75.000000</td>\n",
       "      <td>331.000000</td>\n",
       "    </tr>\n",
       "    <tr>\n",
       "      <th>max</th>\n",
       "      <td>99.000000</td>\n",
       "      <td>100.000000</td>\n",
       "      <td>100.000000</td>\n",
       "      <td>100.000000</td>\n",
       "      <td>100.000000</td>\n",
       "      <td>100.000000</td>\n",
       "      <td>441.000000</td>\n",
       "    </tr>\n",
       "  </tbody>\n",
       "</table>\n",
       "</div>"
      ],
      "text/plain": [
       "           Python           C        Java          DS          OS        DBMS  \\\n",
       "count  161.000000  161.000000  161.000000  161.000000  161.000000  161.000000   \n",
       "mean    51.664596   48.503106   45.776398   42.273292   52.093168   49.043478   \n",
       "std     29.337677   29.097277   30.168894   28.250882   29.633132   29.139181   \n",
       "min      0.000000    0.000000    0.000000    1.000000    0.000000    0.000000   \n",
       "25%     27.000000   23.000000   20.000000   17.000000   29.000000   26.000000   \n",
       "50%     50.000000   47.000000   49.000000   40.000000   52.000000   49.000000   \n",
       "75%     80.000000   70.000000   69.000000   65.000000   79.000000   75.000000   \n",
       "max     99.000000  100.000000  100.000000  100.000000  100.000000  100.000000   \n",
       "\n",
       "            Marks  \n",
       "count  161.000000  \n",
       "mean   289.354037  \n",
       "std     67.901161  \n",
       "min    107.000000  \n",
       "25%    234.000000  \n",
       "50%    295.000000  \n",
       "75%    331.000000  \n",
       "max    441.000000  "
      ]
     },
     "execution_count": 119,
     "metadata": {},
     "output_type": "execute_result"
    }
   ],
   "source": [
    "data.describe()"
   ]
  },
  {
   "cell_type": "code",
   "execution_count": 123,
   "metadata": {},
   "outputs": [
    {
     "data": {
      "text/plain": [
       "0      97\n",
       "1      77\n",
       "2      69\n",
       "3      72\n",
       "4      95\n",
       "       ..\n",
       "156    87\n",
       "157    58\n",
       "158    61\n",
       "159    26\n",
       "160    94\n",
       "Name: C, Length: 161, dtype: int64"
      ]
     },
     "execution_count": 123,
     "metadata": {},
     "output_type": "execute_result"
    }
   ],
   "source": [
    "c=data[\"C\"]\n",
    "c"
   ]
  },
  {
   "cell_type": "code",
   "execution_count": 126,
   "metadata": {},
   "outputs": [
    {
     "data": {
      "text/plain": [
       "0      88\n",
       "1      45\n",
       "2       8\n",
       "3      42\n",
       "4      10\n",
       "       ..\n",
       "156    79\n",
       "157    56\n",
       "158    53\n",
       "159    20\n",
       "160     9\n",
       "Name: DS, Length: 161, dtype: int64"
      ]
     },
     "execution_count": 126,
     "metadata": {},
     "output_type": "execute_result"
    }
   ],
   "source": [
    "ds=data[\"DS\"]\n",
    "ds"
   ]
  },
  {
   "cell_type": "code",
   "execution_count": 128,
   "metadata": {},
   "outputs": [
    {
     "data": {
      "text/plain": [
       "0       4\n",
       "1      80\n",
       "2      43\n",
       "3      34\n",
       "4      93\n",
       "       ..\n",
       "156    66\n",
       "157    73\n",
       "158    33\n",
       "159    68\n",
       "160    16\n",
       "Name: Python, Length: 161, dtype: int64"
      ]
     },
     "execution_count": 128,
     "metadata": {},
     "output_type": "execute_result"
    }
   ],
   "source": [
    "py=data[\"Python\"]\n",
    "py"
   ]
  },
  {
   "cell_type": "code",
   "execution_count": 130,
   "metadata": {},
   "outputs": [
    {
     "data": {
      "text/plain": [
       "0       4\n",
       "1      49\n",
       "2      21\n",
       "3      97\n",
       "4      14\n",
       "       ..\n",
       "156     2\n",
       "157    33\n",
       "158    26\n",
       "159    18\n",
       "160    98\n",
       "Name: Java, Length: 161, dtype: int64"
      ]
     },
     "execution_count": 130,
     "metadata": {},
     "output_type": "execute_result"
    }
   ],
   "source": [
    "Ja=data[\"Java\"]\n",
    "Ja"
   ]
  },
  {
   "cell_type": "code",
   "execution_count": 131,
   "metadata": {},
   "outputs": [],
   "source": [
    "db=data[\"DBMS\"]"
   ]
  },
  {
   "cell_type": "code",
   "execution_count": 132,
   "metadata": {},
   "outputs": [],
   "source": [
    "os=data[\"OS\"]"
   ]
  },
  {
   "cell_type": "code",
   "execution_count": 133,
   "metadata": {},
   "outputs": [],
   "source": [
    "da=data[\"DS\"]"
   ]
  },
  {
   "cell_type": "code",
   "execution_count": 143,
   "metadata": {},
   "outputs": [
    {
     "data": {
      "text/plain": [
       "0      88\n",
       "1      45\n",
       "2       8\n",
       "4      10\n",
       "5      41\n",
       "       ..\n",
       "156    79\n",
       "157    56\n",
       "158    53\n",
       "159    20\n",
       "160     9\n",
       "Name: DS, Length: 160, dtype: int64"
      ]
     },
     "execution_count": 143,
     "metadata": {},
     "output_type": "execute_result"
    }
   ],
   "source": [
    "kk=data[\"DS\"].drop(3)\n",
    "kk"
   ]
  },
  {
   "cell_type": "code",
   "execution_count": 139,
   "metadata": {},
   "outputs": [],
   "source": [
    "data.drop('Python',\n",
    "  axis='columns', inplace=True)"
   ]
  },
  {
   "cell_type": "code",
   "execution_count": 147,
   "metadata": {},
   "outputs": [],
   "source": [
    "data.drop('C',axis=1,inplace=True)"
   ]
  },
  {
   "cell_type": "code",
   "execution_count": 141,
   "metadata": {},
   "outputs": [
    {
     "data": {
      "text/html": [
       "<div>\n",
       "<style scoped>\n",
       "    .dataframe tbody tr th:only-of-type {\n",
       "        vertical-align: middle;\n",
       "    }\n",
       "\n",
       "    .dataframe tbody tr th {\n",
       "        vertical-align: top;\n",
       "    }\n",
       "\n",
       "    .dataframe thead th {\n",
       "        text-align: right;\n",
       "    }\n",
       "</style>\n",
       "<table border=\"1\" class=\"dataframe\">\n",
       "  <thead>\n",
       "    <tr style=\"text-align: right;\">\n",
       "      <th></th>\n",
       "      <th>Roll-No</th>\n",
       "      <th>Name</th>\n",
       "      <th>C</th>\n",
       "      <th>Java</th>\n",
       "      <th>DS</th>\n",
       "      <th>OS</th>\n",
       "      <th>DBMS</th>\n",
       "      <th>Marks</th>\n",
       "      <th>Grade</th>\n",
       "    </tr>\n",
       "  </thead>\n",
       "  <tbody>\n",
       "    <tr>\n",
       "      <th>0</th>\n",
       "      <td>20JR1A0590</td>\n",
       "      <td>M.Sushma</td>\n",
       "      <td>97</td>\n",
       "      <td>4</td>\n",
       "      <td>88</td>\n",
       "      <td>41</td>\n",
       "      <td>52</td>\n",
       "      <td>286</td>\n",
       "      <td>Pass</td>\n",
       "    </tr>\n",
       "    <tr>\n",
       "      <th>1</th>\n",
       "      <td>20JR1A0591</td>\n",
       "      <td>Nagumothu Navya</td>\n",
       "      <td>77</td>\n",
       "      <td>49</td>\n",
       "      <td>45</td>\n",
       "      <td>70</td>\n",
       "      <td>0</td>\n",
       "      <td>321</td>\n",
       "      <td>Pass</td>\n",
       "    </tr>\n",
       "    <tr>\n",
       "      <th>2</th>\n",
       "      <td>20JR1A0592</td>\n",
       "      <td>N.Lakshmi Vasavi</td>\n",
       "      <td>69</td>\n",
       "      <td>21</td>\n",
       "      <td>8</td>\n",
       "      <td>93</td>\n",
       "      <td>91</td>\n",
       "      <td>325</td>\n",
       "      <td>Pass</td>\n",
       "    </tr>\n",
       "    <tr>\n",
       "      <th>3</th>\n",
       "      <td>20JR1A0593</td>\n",
       "      <td>Sushma Namburi</td>\n",
       "      <td>72</td>\n",
       "      <td>97</td>\n",
       "      <td>42</td>\n",
       "      <td>33</td>\n",
       "      <td>71</td>\n",
       "      <td>349</td>\n",
       "      <td>Pass</td>\n",
       "    </tr>\n",
       "    <tr>\n",
       "      <th>4</th>\n",
       "      <td>20JR1A0594</td>\n",
       "      <td>N.lakshmi Chandana</td>\n",
       "      <td>95</td>\n",
       "      <td>14</td>\n",
       "      <td>10</td>\n",
       "      <td>73</td>\n",
       "      <td>20</td>\n",
       "      <td>305</td>\n",
       "      <td>Pass</td>\n",
       "    </tr>\n",
       "    <tr>\n",
       "      <th>...</th>\n",
       "      <td>...</td>\n",
       "      <td>...</td>\n",
       "      <td>...</td>\n",
       "      <td>...</td>\n",
       "      <td>...</td>\n",
       "      <td>...</td>\n",
       "      <td>...</td>\n",
       "      <td>...</td>\n",
       "      <td>...</td>\n",
       "    </tr>\n",
       "    <tr>\n",
       "      <th>156</th>\n",
       "      <td>20JR1A4442</td>\n",
       "      <td>VIVEK</td>\n",
       "      <td>87</td>\n",
       "      <td>2</td>\n",
       "      <td>79</td>\n",
       "      <td>92</td>\n",
       "      <td>16</td>\n",
       "      <td>342</td>\n",
       "      <td>Pass</td>\n",
       "    </tr>\n",
       "    <tr>\n",
       "      <th>157</th>\n",
       "      <td>20JR1AO5J2</td>\n",
       "      <td>Charan Siva Sai</td>\n",
       "      <td>58</td>\n",
       "      <td>33</td>\n",
       "      <td>56</td>\n",
       "      <td>56</td>\n",
       "      <td>19</td>\n",
       "      <td>295</td>\n",
       "      <td>Pass</td>\n",
       "    </tr>\n",
       "    <tr>\n",
       "      <th>158</th>\n",
       "      <td>20jr1A0518</td>\n",
       "      <td>anusha</td>\n",
       "      <td>61</td>\n",
       "      <td>26</td>\n",
       "      <td>53</td>\n",
       "      <td>29</td>\n",
       "      <td>18</td>\n",
       "      <td>220</td>\n",
       "      <td>Pass</td>\n",
       "    </tr>\n",
       "    <tr>\n",
       "      <th>159</th>\n",
       "      <td>20jr1a0552</td>\n",
       "      <td>Abc</td>\n",
       "      <td>26</td>\n",
       "      <td>18</td>\n",
       "      <td>20</td>\n",
       "      <td>24</td>\n",
       "      <td>70</td>\n",
       "      <td>226</td>\n",
       "      <td>Pass</td>\n",
       "    </tr>\n",
       "    <tr>\n",
       "      <th>160</th>\n",
       "      <td>20jr1ao5d8</td>\n",
       "      <td>hello</td>\n",
       "      <td>94</td>\n",
       "      <td>98</td>\n",
       "      <td>9</td>\n",
       "      <td>58</td>\n",
       "      <td>10</td>\n",
       "      <td>285</td>\n",
       "      <td>Pass</td>\n",
       "    </tr>\n",
       "  </tbody>\n",
       "</table>\n",
       "<p>161 rows × 9 columns</p>\n",
       "</div>"
      ],
      "text/plain": [
       "        Roll-No                Name   C  Java  DS  OS  DBMS  Marks Grade\n",
       "0    20JR1A0590            M.Sushma  97     4  88  41    52    286  Pass\n",
       "1    20JR1A0591     Nagumothu Navya  77    49  45  70     0    321  Pass\n",
       "2    20JR1A0592    N.Lakshmi Vasavi  69    21   8  93    91    325  Pass\n",
       "3    20JR1A0593      Sushma Namburi  72    97  42  33    71    349  Pass\n",
       "4    20JR1A0594  N.lakshmi Chandana  95    14  10  73    20    305  Pass\n",
       "..          ...                 ...  ..   ...  ..  ..   ...    ...   ...\n",
       "156  20JR1A4442               VIVEK  87     2  79  92    16    342  Pass\n",
       "157  20JR1AO5J2     Charan Siva Sai  58    33  56  56    19    295  Pass\n",
       "158  20jr1A0518              anusha  61    26  53  29    18    220  Pass\n",
       "159  20jr1a0552                 Abc  26    18  20  24    70    226  Pass\n",
       "160  20jr1ao5d8               hello  94    98   9  58    10    285  Pass\n",
       "\n",
       "[161 rows x 9 columns]"
      ]
     },
     "execution_count": 141,
     "metadata": {},
     "output_type": "execute_result"
    }
   ],
   "source": [
    "data"
   ]
  },
  {
   "cell_type": "code",
   "execution_count": 140,
   "metadata": {},
   "outputs": [],
   "source": [
    "import matplotlib.pyplot as plt\n",
    "# pie\n",
    "# bar\n",
    "# hist \n",
    "# plot\n",
    "# scattor"
   ]
  },
  {
   "cell_type": "code",
   "execution_count": 153,
   "metadata": {},
   "outputs": [],
   "source": [
    "x=np.arange(10)\n",
    "y=np.arange(20,40,2)"
   ]
  },
  {
   "cell_type": "code",
   "execution_count": 151,
   "metadata": {},
   "outputs": [
    {
     "data": {
      "image/png": "[encoded data removed]",
      "text/plain": [
       "<Figure size 432x288 with 1 Axes>"
      ]
     },
     "metadata": {
      "needs_background": "light"
     },
     "output_type": "display_data"
    }
   ],
   "source": [
    "plt.plot(x,y)\n",
    "plt.show()"
   ]
  },
  {
   "cell_type": "code",
   "execution_count": 160,
   "metadata": {},
   "outputs": [],
   "source": [
    "#dir(plt)"
   ]
  },
  {
   "cell_type": "code",
   "execution_count": 169,
   "metadata": {},
   "outputs": [
    {
     "data": {
      "image/png": "[encoded data removed]",
      "text/plain": [
       "<Figure size 432x288 with 1 Axes>"
      ]
     },
     "metadata": {
      "needs_background": "light"
     },
     "output_type": "display_data"
    }
   ],
   "source": [
    "plt.plot(db,os,c=\"g\",marker=\"o\")\n",
    "plt.grid()\n",
    "plt.xlabel(\"DB marks\")\n",
    "plt.ylabel(\"os marks\")\n",
    "plt.title(\"plt dbms &os marks\")\n",
    "plt.savefig(\"first.jpg\")"
   ]
  },
  {
   "cell_type": "code",
   "execution_count": 170,
   "metadata": {},
   "outputs": [
    {
     "name": "stdout",
     "output_type": "stream",
     "text": [
      " 23-06-2021.ipynb     \u001b[0m\u001b[01;34mdata\u001b[0m/          python-21-06-2021.ipynb   untitled1.txt\r\n",
      " 24-06-2021.ipynb     \u001b[01;35mfirst.jpg\u001b[0m      \u001b[01;35munnamed1.jpg\u001b[0m              untitled.txt\r\n",
      " 25-06-2021.ipynb     ksrcs.csv     \u001b[01;35m'unnamed (1).png'\u001b[0m\r\n",
      " 26-june-2020.ipynb   module.py     \u001b[01;35m'unnamed (2).png'\u001b[0m\r\n",
      " class1.py            \u001b[01;34m__pycache__\u001b[0m/   \u001b[01;35munnamed.png\u001b[0m\r\n"
     ]
    }
   ],
   "source": [
    "ls"
   ]
  },
  {
   "cell_type": "markdown",
   "metadata": {},
   "source": []
  },
  {
   "cell_type": "markdown",
   "metadata": {},
   "source": [
    "<img src=\"first.jpg\">"
   ]
  },
  {
   "cell_type": "code",
   "execution_count": 181,
   "metadata": {},
   "outputs": [
    {
     "data": {
      "image/png": "[encoded data removed]",
      "text/plain": [
       "<Figure size 432x288 with 1 Axes>"
      ]
     },
     "metadata": {
      "needs_background": "light"
     },
     "output_type": "display_data"
    }
   ],
   "source": [
    "plt.plot(Ja,linestyle=\"dotted\",c=\"g\")\n",
    "plt.plot(py,linestyle=\"dashed\",c=\"b\")\n",
    "plt.grid()\n",
    "plt.show()"
   ]
  },
  {
   "cell_type": "code",
   "execution_count": 189,
   "metadata": {},
   "outputs": [
    {
     "data": {
      "image/png": "[encoded data removed]",
      "text/plain": [
       "<Figure size 432x288 with 1 Axes>"
      ]
     },
     "metadata": {
      "needs_background": "light"
     },
     "output_type": "display_data"
    }
   ],
   "source": [
    "plt.bar(Ja,py,linestyle=\"dashed\",color=\"g\")\n",
    "plt.show()"
   ]
  },
  {
   "cell_type": "code",
   "execution_count": 185,
   "metadata": {},
   "outputs": [
    {
     "data": {
      "image/png": "[encoded data removed]",
      "text/plain": [
       "<Figure size 432x288 with 1 Axes>"
      ]
     },
     "metadata": {
      "needs_background": "light"
     },
     "output_type": "display_data"
    }
   ],
   "source": [
    "plt.hist(Ja)\n",
    "plt.show()"
   ]
  },
  {
   "cell_type": "code",
   "execution_count": 190,
   "metadata": {},
   "outputs": [
    {
     "data": {
      "image/png": "[encoded data removed]",
      "text/plain": [
       "<Figure size 432x288 with 1 Axes>"
      ]
     },
     "metadata": {
      "needs_background": "light"
     },
     "output_type": "display_data"
    }
   ],
   "source": [
    "plt.bar(1,3)\n",
    "plt.show()"
   ]
  },
  {
   "cell_type": "code",
   "execution_count": 195,
   "metadata": {},
   "outputs": [
    {
     "data": {
      "image/png": "[encoded data removed]",
      "text/plain": [
       "<Figure size 432x288 with 1 Axes>"
      ]
     },
     "metadata": {},
     "output_type": "display_data"
    }
   ],
   "source": [
    "course=[\"ml\",\"iot\",\"ds\",\"ai\",\"cs\"]\n",
    "per=[40,20,10,17,13]\n",
    "plt.pie(per,labels=course)\n",
    "plt.show()"
   ]
  },
  {
   "attachments": {
    "image.png": {
     "image/png": "[encoded data removed]"
    }
   },
   "cell_type": "markdown",
   "metadata": {},
   "source": [
    "![image.png](attachment:image.png)"
   ]
  },
  {
   "cell_type": "code",
   "execution_count": 203,
   "metadata": {},
   "outputs": [
    {
     "name": "stdout",
     "output_type": "stream",
     "text": [
      "[0.94323873 0.2178483  0.44694767 0.19025008 0.13393941 0.55436078\n",
      " 0.93323776 0.87313228 0.27230086 0.93374705 0.9988765  0.05234511\n",
      " 0.71268967 0.70233545 0.21839467 0.42358198 0.43873305 0.78672617\n",
      " 0.82174898 0.6852927  0.818201   0.23022014 0.67520298 0.65540422\n",
      " 0.74102182 0.10965444 0.26238866 0.18264217 0.72658877 0.33013135\n",
      " 0.6977536  0.00375571 0.49703552 0.85455337 0.95929284 0.75309718\n",
      " 0.82171163 0.63065041 0.77198046 0.60230806 0.54884021 0.40412632\n",
      " 0.21759743 0.10455019 0.77440018 0.73405155 0.92867501 0.69480377\n",
      " 0.99773494 0.68174567 0.45850315 0.54508274 0.66024997 0.09282746\n",
      " 0.53719172 0.52356532 0.77196457 0.65211336 0.77257107 0.07277951\n",
      " 0.67233825 0.84033122 0.08805007 0.072106   0.95808629 0.5654013\n",
      " 0.94925242 0.69166578 0.20382123 0.77265976 0.39051664 0.65467375\n",
      " 0.32443924 0.23268035 0.74699028 0.63825175 0.76141822 0.80924766\n",
      " 0.22914244 0.69036817 0.53812051 0.85656393 0.19486727 0.20841869\n",
      " 0.82551986 0.63786642 0.47563829 0.89687261 0.45427762 0.41461314\n",
      " 0.44581772 0.0312001  0.42625851 0.99484843 0.1227926  0.42043366\n",
      " 0.96234321 0.91458331 0.09740364 0.23658641 0.28473949 0.02459766\n",
      " 0.18850162 0.52415631 0.640989   0.26583627 0.3306538  0.80617409\n",
      " 0.31366963 0.40678913 0.40068805 0.88472651 0.37537005 0.4759698\n",
      " 0.331082   0.89094011 0.42841255 0.6139415  0.95331738 0.15693862\n",
      " 0.85967297 0.02071279 0.09586203 0.48241024 0.56344858 0.25371849\n",
      " 0.49440599 0.01641946 0.78942729 0.59273624 0.80674253 0.04014964\n",
      " 0.44262    0.62234515 0.69491266 0.19206759 0.82518997 0.59820017\n",
      " 0.19140145 0.73222779 0.75054112 0.26173907 0.45864447 0.47794874\n",
      " 0.83729338 0.96523686 0.88724931 0.90067776 0.43120057 0.21097236\n",
      " 0.24047394 0.34274697 0.64326798 0.22877578 0.06999505 0.06972563\n",
      " 0.51079791 0.06599658 0.60638237 0.34725588 0.29342095 0.27469419\n",
      " 0.89418993 0.63664139 0.13833864 0.11004531 0.84710318 0.0098371\n",
      " 0.07395705 0.53282564 0.23909508 0.95039066 0.44855464 0.44847116\n",
      " 0.03619178 0.76830815 0.11487262 0.5535124  0.30055669 0.514006\n",
      " 0.67839538 0.97560446 0.2423567  0.25665309 0.87787273 0.01578369\n",
      " 0.96628096 0.41223369 0.37105119 0.67449365 0.18876605 0.20421857\n",
      " 0.79324698 0.92375577 0.57320954 0.9346173  0.08042362 0.77923006\n",
      " 0.63569276 0.86445714]\n",
      "[0.1973892  0.02113461 0.70418929 0.19438166 0.78717433 0.34159077\n",
      " 0.64630276 0.3019619  0.67367579 0.09987805 0.75334482 0.35606159\n",
      " 0.50884691 0.83663629 0.03341537 0.43635627 0.50085704 0.58471945\n",
      " 0.86934005 0.9877864  0.10972835 0.56741456 0.83202598 0.50624234\n",
      " 0.65110326 0.54202574 0.04100968 0.65664849 0.16711043 0.45812544\n",
      " 0.67433462 0.76129708 0.28731439 0.81464076 0.15762017 0.45432985\n",
      " 0.64748561 0.95007539 0.88505889 0.16217042 0.33146554 0.41546401\n",
      " 0.96268794 0.0041822  0.68968536 0.6719196  0.00200193 0.04560791\n",
      " 0.90243465 0.81659816 0.16869475 0.67152599 0.85610763 0.48057293\n",
      " 0.12316847 0.07611453 0.82294536 0.17356566 0.19073853 0.7805826\n",
      " 0.68771043 0.35479165 0.58990592 0.15150465 0.30923392 0.0691096\n",
      " 0.72717195 0.92595771 0.77985389 0.05277    0.28643038 0.79875209\n",
      " 0.03098234 0.89001037 0.91471492 0.32988927 0.67156638 0.97182147\n",
      " 0.55284597 0.60369519 0.30702141 0.29035661 0.64363838 0.44190011\n",
      " 0.10237877 0.00832087 0.44609269 0.94725263 0.68685256 0.70950419\n",
      " 0.90844546 0.75488157 0.4634135  0.16397567 0.60925209 0.55899035\n",
      " 0.6808228  0.64760428 0.89082587 0.32714361 0.42897756 0.39661681\n",
      " 0.59315823 0.4720453  0.38514709 0.59296821 0.00762506 0.17438245\n",
      " 0.45245985 0.13445796 0.56679553 0.17752662 0.6476247  0.20937797\n",
      " 0.82544062 0.57697782 0.21887988 0.25956468 0.8133535  0.17669662\n",
      " 0.448508   0.95686317 0.42949202 0.45588192 0.38438872 0.92187468\n",
      " 0.81790797 0.52263864 0.9430222  0.53396862 0.97202964 0.57574369\n",
      " 0.06709921 0.41653077 0.24737236 0.81116479 0.74394613 0.17238963\n",
      " 0.29275886 0.95769246 0.83847832 0.08358577 0.3322544  0.11750931\n",
      " 0.05231743 0.28949838 0.94828739 0.97330363 0.35994653 0.15260144\n",
      " 0.64417912 0.05283058 0.6474903  0.57922263 0.5706082  0.82588487\n",
      " 0.21482381 0.43450064 0.52611225 0.98531585 0.80740301 0.19116056\n",
      " 0.8909832  0.93068572 0.36092874 0.13286341 0.01809021 0.93906804\n",
      " 0.52450408 0.72879678 0.0465262  0.27463192 0.62244301 0.38116199\n",
      " 0.92986361 0.84456837 0.81363241 0.3493645  0.90276046 0.49244166\n",
      " 0.97198054 0.2677161  0.56645077 0.10077203 0.57772284 0.33214835\n",
      " 0.0931356  0.79226917 0.07796339 0.48771934 0.67267989 0.97808144\n",
      " 0.56724775 0.69726958 0.16995283 0.43491628 0.04674855 0.33801616\n",
      " 0.16301006 0.6778629 ]\n"
     ]
    }
   ],
   "source": [
    "x=np.random.rand(200)\n",
    "y=np.random.rand(200)\n",
    "print(x)\n",
    "print(y)"
   ]
  },
  {
   "cell_type": "code",
   "execution_count": 202,
   "metadata": {},
   "outputs": [
    {
     "data": {
      "image/png": "[encoded data removed]",
      "text/plain": [
       "<Figure size 432x288 with 1 Axes>"
      ]
     },
     "metadata": {
      "needs_background": "light"
     },
     "output_type": "display_data"
    }
   ],
   "source": [
    "plt.scatter(x,y,c=\"g\")\n",
    "plt.show()"
   ]
  },
  {
   "cell_type": "code",
   "execution_count": 204,
   "metadata": {},
   "outputs": [
    {
     "data": {
      "image/png": "[encoded data removed]",
      "text/plain": [
       "<Figure size 432x288 with 1 Axes>"
      ]
     },
     "metadata": {
      "needs_background": "light"
     },
     "output_type": "display_data"
    }
   ],
   "source": [
    "plt.scatter(db,Ja,c=\"g\")\n",
    "plt.show()"
   ]
  },
  {
   "cell_type": "code",
   "execution_count": 210,
   "metadata": {},
   "outputs": [
    {
     "data": {
      "image/png": "[encoded data removed]",
      "text/plain": [
       "<Figure size 432x288 with 2 Axes>"
      ]
     },
     "metadata": {
      "needs_background": "light"
     },
     "output_type": "display_data"
    }
   ],
   "source": [
    "plt.subplot(1,2,1)\n",
    "plt.plot(c)\n",
    "plt.subplot(1,2,2)\n",
    "plt.plot(Ja)\n",
    "plt.show()"
   ]
  },
  {
   "cell_type": "markdown",
   "metadata": {},
   "source": [
    "# Python iterators\n",
    "# generators"
   ]
  },
  {
   "cell_type": "code",
   "execution_count": 211,
   "metadata": {},
   "outputs": [
    {
     "name": "stdout",
     "output_type": "stream",
     "text": [
      "1\n",
      "4\n",
      "5\n",
      "6\n",
      "7\n"
     ]
    }
   ],
   "source": [
    "l=[1,4,5,6,7]\n",
    "for i in l:\n",
    "    print(i)"
   ]
  },
  {
   "cell_type": "code",
   "execution_count": 216,
   "metadata": {},
   "outputs": [
    {
     "name": "stdout",
     "output_type": "stream",
     "text": [
      "1\n",
      "4\n",
      "5\n",
      "6\n",
      "7\n"
     ]
    }
   ],
   "source": [
    "l=[1,4,5,6,7]\n",
    "da=iter(l)\n",
    "print(next(da))\n",
    "print(next(da))\n",
    "print(next(da))\n",
    "print(next(da))\n",
    "print(next(da))"
   ]
  },
  {
   "cell_type": "code",
   "execution_count": 217,
   "metadata": {},
   "outputs": [
    {
     "name": "stdout",
     "output_type": "stream",
     "text": [
      "10\n",
      "20\n",
      "30\n",
      "40\n",
      "50\n"
     ]
    }
   ],
   "source": [
    "def gen():\n",
    "    yield 10\n",
    "    yield 20\n",
    "    yield 30\n",
    "    yield 40\n",
    "    yield 50\n",
    "h=gen()\n",
    "for i in h:\n",
    "    print(i)"
   ]
  },
  {
   "cell_type": "code",
   "execution_count": null,
   "metadata": {},
   "outputs": [],
   "source": []
  }
 ],
 "metadata": {
  "kernelspec": {
   "display_name": "Python 3",
   "language": "python",
   "name": "python3"
  },
  "language_info": {
   "codemirror_mode": {
    "name": "ipython",
    "version": 3
   },
   "file_extension": ".py",
   "mimetype": "text/x-python",
   "name": "python",
   "nbconvert_exporter": "python",
   "pygments_lexer": "ipython3",
   "version": "3.8.3"
  }
 },
 "nbformat": 4,
 "nbformat_minor": 4
}
