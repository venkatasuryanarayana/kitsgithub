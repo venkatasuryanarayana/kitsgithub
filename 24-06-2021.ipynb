{
 "cells": [
  {
   "cell_type": "markdown",
   "metadata": {},
   "source": [
    "![](logo.png)\n",
    "## Python Inheritance\n",
    "\n",
    "         * Inheritance enables us to define a class that takes all the functionality from a <br> \n",
    "           parent class and allows us to add more\n",
    "         * It refers to defining a new class with little or no modification to an existing class\n",
    "         * New class is called derived (or child) class \n",
    "         * One from which it inherits is called the base (or parent) class\n",
    "![inheritence.jpg](inheritence.jpg)\n",
    "#### The benefits of inheritance :\n",
    "         * It provides re-usability of a code (\"REUSE\")\n",
    "         * it allows us to add more features to a class without modifying it\n",
    "         * It is transitive in nature\n",
    "         * if class B inherits from another class A, then all the subclasses of B would automatically \n",
    "           inherit from class A.\n",
    "                  \n",
    "\n",
    "\n",
    "![Inheritance-Example-1024x512.png](Inheritance-Example-1024x512.png)\n",
    "\n",
    "\n",
    "#### Advantages:\n",
    "    * Application development time is less.\n",
    "    * Application takes less memory.\n",
    "    * Application execution time is less.\n",
    "\n",
    "```Syntax```\n",
    "\n",
    "\n"
   ]
  },
  {
   "cell_type": "markdown",
   "metadata": {},
   "source": [
    "```python \n",
    "    class SuperClass:\n",
    "        body of super class\n",
    "    class derivedClass(superclass):\n",
    "        body of the base class\n",
    "```"
   ]
  },
  {
   "cell_type": "markdown",
   "metadata": {},
   "source": [
    "    \n",
    "### Regular Expressions\n",
    "- it can also be called as re,regex\n",
    "- A regular expression is a sequence of characters that match a pattern\n",
    "- its a symbolic represtation\n",
    "**Re Methods**\n",
    "    - Match()\n",
    "    - Search()\n",
    "    - Findall()\n",
    "   \n",
    "\n",
    "|character | Usecase |\n",
    "| -- | -- |\n",
    "| ^ |        matches the begining|\n",
    "| *  |       zero or more occurence|\n",
    " | +   |      one or more occurence|\n",
    "| .    |     Matches any character except a newline.|\n",
    " | {}    |    range set|\n",
    "| [a-zA-Z]|  alphbet range|\n",
    "|[0-9]    | digits|\n",
    "| |         |or |\n",
    "|$         | matches the ending|"
   ]
  },
  {
   "cell_type": "markdown",
   "metadata": {},
   "source": [
    "# Inheritence"
   ]
  },
  {
   "cell_type": "code",
   "execution_count": 11,
   "metadata": {},
   "outputs": [],
   "source": [
    "class SuperClass:\n",
    "    def A():\n",
    "        print(\"I am Super class\")\n",
    "    \n",
    "class DerivedClass(SuperClass):\n",
    "    def B():\n",
    "        print(\"I am Derived Class\")"
   ]
  },
  {
   "cell_type": "code",
   "execution_count": 15,
   "metadata": {},
   "outputs": [],
   "source": [
    "obj_super = SuperClass"
   ]
  },
  {
   "cell_type": "code",
   "execution_count": 16,
   "metadata": {},
   "outputs": [
    {
     "name": "stdout",
     "output_type": "stream",
     "text": [
      "I am Super class\n"
     ]
    }
   ],
   "source": [
    "obj_super.A()"
   ]
  },
  {
   "cell_type": "code",
   "execution_count": 17,
   "metadata": {},
   "outputs": [
    {
     "ename": "AttributeError",
     "evalue": "type object 'SuperClass' has no attribute 'B'",
     "output_type": "error",
     "traceback": [
      "\u001b[1;31m---------------------------------------------------------------------------\u001b[0m",
      "\u001b[1;31mAttributeError\u001b[0m                            Traceback (most recent call last)",
      "\u001b[1;32m<ipython-input-17-442a56bff794>\u001b[0m in \u001b[0;36m<module>\u001b[1;34m\u001b[0m\n\u001b[1;32m----> 1\u001b[1;33m \u001b[0mobj_super\u001b[0m\u001b[1;33m.\u001b[0m\u001b[0mB\u001b[0m\u001b[1;33m(\u001b[0m\u001b[1;33m)\u001b[0m\u001b[1;33m\u001b[0m\u001b[1;33m\u001b[0m\u001b[0m\n\u001b[0m",
      "\u001b[1;31mAttributeError\u001b[0m: type object 'SuperClass' has no attribute 'B'"
     ]
    }
   ],
   "source": [
    "obj_super.B()"
   ]
  },
  {
   "cell_type": "code",
   "execution_count": 18,
   "metadata": {},
   "outputs": [
    {
     "name": "stdout",
     "output_type": "stream",
     "text": [
      "I am Derived Class\n"
     ]
    }
   ],
   "source": [
    "obj_derived = DerivedClass\n",
    "obj_derived.B()"
   ]
  },
  {
   "cell_type": "code",
   "execution_count": 19,
   "metadata": {},
   "outputs": [
    {
     "name": "stdout",
     "output_type": "stream",
     "text": [
      "I am Super class\n"
     ]
    }
   ],
   "source": [
    "obj_derived.A()"
   ]
  },
  {
   "cell_type": "code",
   "execution_count": 20,
   "metadata": {},
   "outputs": [],
   "source": [
    "class parentClass:\n",
    "    var = \"Initial\"\n",
    "    def base():\n",
    "        print(\"I am base class\")\n",
    "        \n",
    "class childClass(parentClass):\n",
    "    v = 1000\n",
    "    def child():\n",
    "        print(\"I am child of Parent\")"
   ]
  },
  {
   "cell_type": "code",
   "execution_count": 21,
   "metadata": {},
   "outputs": [
    {
     "data": {
      "text/plain": [
       "'Initial'"
      ]
     },
     "execution_count": 21,
     "metadata": {},
     "output_type": "execute_result"
    }
   ],
   "source": [
    "obj_parent = parentClass\n",
    "obj_parent.var"
   ]
  },
  {
   "cell_type": "code",
   "execution_count": 22,
   "metadata": {},
   "outputs": [
    {
     "name": "stdout",
     "output_type": "stream",
     "text": [
      "I am base class\n"
     ]
    }
   ],
   "source": [
    "obj_parent.base()"
   ]
  },
  {
   "cell_type": "code",
   "execution_count": 23,
   "metadata": {
    "collapsed": true
   },
   "outputs": [
    {
     "ename": "AttributeError",
     "evalue": "type object 'parentClass' has no attribute 'v'",
     "output_type": "error",
     "traceback": [
      "\u001b[1;31m---------------------------------------------------------------------------\u001b[0m",
      "\u001b[1;31mAttributeError\u001b[0m                            Traceback (most recent call last)",
      "\u001b[1;32m<ipython-input-23-d94d2eab2342>\u001b[0m in \u001b[0;36m<module>\u001b[1;34m\u001b[0m\n\u001b[1;32m----> 1\u001b[1;33m \u001b[0mobj_parent\u001b[0m\u001b[1;33m.\u001b[0m\u001b[0mv\u001b[0m\u001b[1;33m\u001b[0m\u001b[1;33m\u001b[0m\u001b[0m\n\u001b[0m",
      "\u001b[1;31mAttributeError\u001b[0m: type object 'parentClass' has no attribute 'v'"
     ]
    }
   ],
   "source": [
    "obj_parent.v"
   ]
  },
  {
   "cell_type": "code",
   "execution_count": 24,
   "metadata": {
    "collapsed": true
   },
   "outputs": [
    {
     "ename": "AttributeError",
     "evalue": "type object 'parentClass' has no attribute 'child'",
     "output_type": "error",
     "traceback": [
      "\u001b[1;31m---------------------------------------------------------------------------\u001b[0m",
      "\u001b[1;31mAttributeError\u001b[0m                            Traceback (most recent call last)",
      "\u001b[1;32m<ipython-input-24-339d81034d01>\u001b[0m in \u001b[0;36m<module>\u001b[1;34m\u001b[0m\n\u001b[1;32m----> 1\u001b[1;33m \u001b[0mobj_parent\u001b[0m\u001b[1;33m.\u001b[0m\u001b[0mchild\u001b[0m\u001b[1;33m(\u001b[0m\u001b[1;33m)\u001b[0m\u001b[1;33m\u001b[0m\u001b[1;33m\u001b[0m\u001b[0m\n\u001b[0m",
      "\u001b[1;31mAttributeError\u001b[0m: type object 'parentClass' has no attribute 'child'"
     ]
    }
   ],
   "source": [
    "obj_parent.child()"
   ]
  },
  {
   "cell_type": "code",
   "execution_count": 25,
   "metadata": {},
   "outputs": [],
   "source": [
    "obj_child = childClass"
   ]
  },
  {
   "cell_type": "code",
   "execution_count": 26,
   "metadata": {},
   "outputs": [
    {
     "data": {
      "text/plain": [
       "1000"
      ]
     },
     "execution_count": 26,
     "metadata": {},
     "output_type": "execute_result"
    }
   ],
   "source": [
    "obj_child.v"
   ]
  },
  {
   "cell_type": "code",
   "execution_count": 27,
   "metadata": {},
   "outputs": [
    {
     "name": "stdout",
     "output_type": "stream",
     "text": [
      "I am child of Parent\n"
     ]
    }
   ],
   "source": [
    "obj_child.child()"
   ]
  },
  {
   "cell_type": "code",
   "execution_count": 28,
   "metadata": {},
   "outputs": [
    {
     "data": {
      "text/plain": [
       "'Initial'"
      ]
     },
     "execution_count": 28,
     "metadata": {},
     "output_type": "execute_result"
    }
   ],
   "source": [
    "obj_child.var"
   ]
  },
  {
   "cell_type": "code",
   "execution_count": 29,
   "metadata": {},
   "outputs": [
    {
     "name": "stdout",
     "output_type": "stream",
     "text": [
      "I am base class\n"
     ]
    }
   ],
   "source": [
    "obj_child.base()"
   ]
  },
  {
   "cell_type": "markdown",
   "metadata": {},
   "source": [
    "# Types of Inheritence\n",
    "- Single Level Inheritence\n",
    "- Multiple Inheritence\n",
    "- Multi Level Inheritence"
   ]
  },
  {
   "cell_type": "markdown",
   "metadata": {},
   "source": [
    "# Single Level Inheritence\n",
    "- Only one child, which is inherite from only one parent... \n",
    "![](single.png)"
   ]
  },
  {
   "cell_type": "code",
   "execution_count": 30,
   "metadata": {},
   "outputs": [
    {
     "name": "stdout",
     "output_type": "stream",
     "text": [
      "I am init Constructor\n"
     ]
    }
   ],
   "source": [
    "class Super:\n",
    "    def __init__(self):\n",
    "        self.n1 = 100\n",
    "        self.n2 = 200\n",
    "        print(\"I am init Constructor\")\n",
    "    def show(self):\n",
    "        print(f\"n1 and n2 are {self.n1, self.n2}\")        \n",
    "class Derived(Super):\n",
    "    def add(self):\n",
    "        return \"addition of two numbers \",self.n1+self.n2    \n",
    "obj_s = Super()  "
   ]
  },
  {
   "cell_type": "code",
   "execution_count": 31,
   "metadata": {},
   "outputs": [
    {
     "name": "stdout",
     "output_type": "stream",
     "text": [
      "n1 and n2 are (100, 200)\n"
     ]
    }
   ],
   "source": [
    "obj_s.show()"
   ]
  },
  {
   "cell_type": "code",
   "execution_count": 32,
   "metadata": {},
   "outputs": [
    {
     "name": "stdout",
     "output_type": "stream",
     "text": [
      "I am init Constructor\n"
     ]
    }
   ],
   "source": [
    "obj_c = Derived()"
   ]
  },
  {
   "cell_type": "code",
   "execution_count": 33,
   "metadata": {},
   "outputs": [
    {
     "name": "stdout",
     "output_type": "stream",
     "text": [
      "n1 and n2 are (100, 200)\n"
     ]
    }
   ],
   "source": [
    "obj_c.show()"
   ]
  },
  {
   "cell_type": "code",
   "execution_count": 34,
   "metadata": {},
   "outputs": [
    {
     "data": {
      "text/plain": [
       "('addition of two numbers ', 300)"
      ]
     },
     "execution_count": 34,
     "metadata": {},
     "output_type": "execute_result"
    }
   ],
   "source": [
    "obj_c.add()"
   ]
  },
  {
   "cell_type": "markdown",
   "metadata": {},
   "source": [
    "# Multiple Inheritence\n",
    "- More than one Parent but only one Child...\n",
    "![](multi.png)"
   ]
  },
  {
   "cell_type": "code",
   "execution_count": 39,
   "metadata": {},
   "outputs": [],
   "source": [
    "class Parent1:\n",
    "    def property1():\n",
    "        print(\"I am the Property of Parent1\")\n",
    "        \n",
    "class Parent2:\n",
    "    def property2():\n",
    "        print(\"I am the Property of Parent2\")\n",
    "        \n",
    "        \n",
    "class child(Parent1,Parent2):\n",
    "    def property3():\n",
    "        print(\"I am the Property of child CLass\")"
   ]
  },
  {
   "cell_type": "code",
   "execution_count": 40,
   "metadata": {},
   "outputs": [],
   "source": [
    "obj_p1 = Parent1"
   ]
  },
  {
   "cell_type": "code",
   "execution_count": 41,
   "metadata": {
    "collapsed": true
   },
   "outputs": [
    {
     "name": "stdout",
     "output_type": "stream",
     "text": [
      "I am the Property of Parent1\n"
     ]
    },
    {
     "ename": "AttributeError",
     "evalue": "type object 'Parent1' has no attribute 'property2'",
     "output_type": "error",
     "traceback": [
      "\u001b[1;31m---------------------------------------------------------------------------\u001b[0m",
      "\u001b[1;31mAttributeError\u001b[0m                            Traceback (most recent call last)",
      "\u001b[1;32m<ipython-input-41-132819e73a24>\u001b[0m in \u001b[0;36m<module>\u001b[1;34m\u001b[0m\n\u001b[0;32m      1\u001b[0m \u001b[0mobj_p1\u001b[0m\u001b[1;33m.\u001b[0m\u001b[0mproperty1\u001b[0m\u001b[1;33m(\u001b[0m\u001b[1;33m)\u001b[0m\u001b[1;33m\u001b[0m\u001b[1;33m\u001b[0m\u001b[0m\n\u001b[1;32m----> 2\u001b[1;33m \u001b[0mobj_p1\u001b[0m\u001b[1;33m.\u001b[0m\u001b[0mproperty2\u001b[0m\u001b[1;33m(\u001b[0m\u001b[1;33m)\u001b[0m\u001b[1;33m\u001b[0m\u001b[1;33m\u001b[0m\u001b[0m\n\u001b[0m\u001b[0;32m      3\u001b[0m \u001b[0mobj_p1\u001b[0m\u001b[1;33m.\u001b[0m\u001b[0mproperty3\u001b[0m\u001b[1;33m(\u001b[0m\u001b[1;33m)\u001b[0m\u001b[1;33m\u001b[0m\u001b[1;33m\u001b[0m\u001b[0m\n",
      "\u001b[1;31mAttributeError\u001b[0m: type object 'Parent1' has no attribute 'property2'"
     ]
    }
   ],
   "source": [
    "obj_p1.property1() # can\n",
    "obj_p1.property2() # can't\n",
    "obj_p1.property3() # can't"
   ]
  },
  {
   "cell_type": "code",
   "execution_count": 42,
   "metadata": {},
   "outputs": [],
   "source": [
    "obj_p2 = Parent2"
   ]
  },
  {
   "cell_type": "code",
   "execution_count": 45,
   "metadata": {
    "collapsed": true
   },
   "outputs": [
    {
     "name": "stdout",
     "output_type": "stream",
     "text": [
      "I am the Property of Parent2\n"
     ]
    },
    {
     "ename": "AttributeError",
     "evalue": "type object 'Parent2' has no attribute 'property1'",
     "output_type": "error",
     "traceback": [
      "\u001b[1;31m---------------------------------------------------------------------------\u001b[0m",
      "\u001b[1;31mAttributeError\u001b[0m                            Traceback (most recent call last)",
      "\u001b[1;32m<ipython-input-45-b431c5f65c02>\u001b[0m in \u001b[0;36m<module>\u001b[1;34m\u001b[0m\n\u001b[0;32m      1\u001b[0m \u001b[0mobj_p2\u001b[0m\u001b[1;33m.\u001b[0m\u001b[0mproperty2\u001b[0m\u001b[1;33m(\u001b[0m\u001b[1;33m)\u001b[0m\u001b[1;33m\u001b[0m\u001b[1;33m\u001b[0m\u001b[0m\n\u001b[1;32m----> 2\u001b[1;33m \u001b[0mobj_p2\u001b[0m\u001b[1;33m.\u001b[0m\u001b[0mproperty1\u001b[0m\u001b[1;33m(\u001b[0m\u001b[1;33m)\u001b[0m\u001b[1;33m\u001b[0m\u001b[1;33m\u001b[0m\u001b[0m\n\u001b[0m\u001b[0;32m      3\u001b[0m \u001b[1;33m\u001b[0m\u001b[0m\n\u001b[0;32m      4\u001b[0m \u001b[0mobj_p2\u001b[0m\u001b[1;33m.\u001b[0m\u001b[0mproperty3\u001b[0m\u001b[1;33m(\u001b[0m\u001b[1;33m)\u001b[0m\u001b[1;33m\u001b[0m\u001b[1;33m\u001b[0m\u001b[0m\n",
      "\u001b[1;31mAttributeError\u001b[0m: type object 'Parent2' has no attribute 'property1'"
     ]
    }
   ],
   "source": [
    "obj_p2.property2() # can\n",
    "obj_p2.property1() # can't\n",
    "obj_p2.property3() # can't"
   ]
  },
  {
   "cell_type": "code",
   "execution_count": 46,
   "metadata": {},
   "outputs": [],
   "source": [
    "obj_c = child"
   ]
  },
  {
   "cell_type": "code",
   "execution_count": 48,
   "metadata": {},
   "outputs": [
    {
     "name": "stdout",
     "output_type": "stream",
     "text": [
      "I am the Property of Parent2\n",
      "I am the Property of Parent1\n",
      "I am the Property of child CLass\n"
     ]
    }
   ],
   "source": [
    "obj_c.property2() # can\n",
    "obj_c.property1() # can\n",
    "obj_c.property3() # can"
   ]
  },
  {
   "cell_type": "code",
   "execution_count": 60,
   "metadata": {},
   "outputs": [],
   "source": [
    "class Father:\n",
    "    def __init__(self):\n",
    "        self.amount = 500\n",
    "\n",
    "class Mother:\n",
    "    def __init__(self):\n",
    "        self.money = 1000\n",
    "        \n",
    "class you(Father,Mother):\n",
    "    def __init__(self):\n",
    "        Father.__init__(self)\n",
    "        Mother.__init__(self)\n",
    "        print(\"My Monthly Pocket Money is \",self.amount+self.money)"
   ]
  },
  {
   "cell_type": "code",
   "execution_count": 61,
   "metadata": {},
   "outputs": [
    {
     "name": "stdout",
     "output_type": "stream",
     "text": [
      "My Monthly Pocket Money is  1500\n"
     ]
    }
   ],
   "source": [
    "obj_you = you()"
   ]
  },
  {
   "cell_type": "markdown",
   "metadata": {},
   "source": [
    "# Task\n",
    "- USe Multiple Inheritence\n",
    "- Get 3digit OTP from Mail Class \n",
    "- Get 3digit OTP from Phone Class\n",
    "- by Using Verified Class (child), access both 3digit OTP's and return 6digit "
   ]
  },
  {
   "cell_type": "code",
   "execution_count": 73,
   "metadata": {},
   "outputs": [],
   "source": [
    "class Mail:\n",
    "      def __init__(self) :\n",
    "            self.OTP=123\n",
    "class phone:\n",
    "        def __init__(self) :\n",
    "             self.OTP=456\n",
    "                \n",
    "class you(Mail,phone) :\n",
    "       def __init__(self) :\n",
    "        Mail.__init__(self) \n",
    "        Phone.__init__(self) \n",
    "            \n",
    "        print(\"my OTP is\", self.Mail+self.phone) "
   ]
  },
  {
   "cell_type": "code",
   "execution_count": 74,
   "metadata": {
    "collapsed": true
   },
   "outputs": [
    {
     "ename": "NameError",
     "evalue": "name 'Phone' is not defined",
     "output_type": "error",
     "traceback": [
      "\u001b[1;31m---------------------------------------------------------------------------\u001b[0m",
      "\u001b[1;31mNameError\u001b[0m                                 Traceback (most recent call last)",
      "\u001b[1;32m<ipython-input-74-3ba4ff581ed5>\u001b[0m in \u001b[0;36m<module>\u001b[1;34m\u001b[0m\n\u001b[1;32m----> 1\u001b[1;33m \u001b[0mobj_you\u001b[0m \u001b[1;33m=\u001b[0m \u001b[0myou\u001b[0m\u001b[1;33m(\u001b[0m\u001b[1;33m)\u001b[0m\u001b[1;33m\u001b[0m\u001b[1;33m\u001b[0m\u001b[0m\n\u001b[0m",
      "\u001b[1;32m<ipython-input-73-4b2ed97a745e>\u001b[0m in \u001b[0;36m__init__\u001b[1;34m(self)\u001b[0m\n\u001b[0;32m      8\u001b[0m        \u001b[1;32mdef\u001b[0m \u001b[0m__init__\u001b[0m\u001b[1;33m(\u001b[0m\u001b[0mself\u001b[0m\u001b[1;33m)\u001b[0m \u001b[1;33m:\u001b[0m\u001b[1;33m\u001b[0m\u001b[1;33m\u001b[0m\u001b[0m\n\u001b[0;32m      9\u001b[0m         \u001b[0mMail\u001b[0m\u001b[1;33m.\u001b[0m\u001b[0m__init__\u001b[0m\u001b[1;33m(\u001b[0m\u001b[0mself\u001b[0m\u001b[1;33m)\u001b[0m\u001b[1;33m\u001b[0m\u001b[1;33m\u001b[0m\u001b[0m\n\u001b[1;32m---> 10\u001b[1;33m         \u001b[0mPhone\u001b[0m\u001b[1;33m.\u001b[0m\u001b[0m__init__\u001b[0m\u001b[1;33m(\u001b[0m\u001b[0mself\u001b[0m\u001b[1;33m)\u001b[0m\u001b[1;33m\u001b[0m\u001b[1;33m\u001b[0m\u001b[0m\n\u001b[0m\u001b[0;32m     11\u001b[0m \u001b[1;33m\u001b[0m\u001b[0m\n\u001b[0;32m     12\u001b[0m         \u001b[0mprint\u001b[0m\u001b[1;33m(\u001b[0m\u001b[1;34m\"my OTP is\"\u001b[0m\u001b[1;33m,\u001b[0m \u001b[0mself\u001b[0m\u001b[1;33m.\u001b[0m \u001b[0mMail\u001b[0m\u001b[1;33m+\u001b[0m\u001b[0mself\u001b[0m\u001b[1;33m.\u001b[0m\u001b[0mphone\u001b[0m\u001b[1;33m)\u001b[0m\u001b[1;33m\u001b[0m\u001b[1;33m\u001b[0m\u001b[0m\n",
      "\u001b[1;31mNameError\u001b[0m: name 'Phone' is not defined"
     ]
    }
   ],
   "source": [
    "obj_you = you()"
   ]
  },
  {
   "cell_type": "code",
   "execution_count": 77,
   "metadata": {},
   "outputs": [],
   "source": [
    "class mail:\n",
    " def __init__(self):\n",
    "   Self.mail=input(\"enter otp\")\n",
    "class phone:\n",
    " def __init__(self):\n",
    "   Self.phone=input(\"enter otp\")\n",
    "class verify:\n",
    "def__init__(self):\n",
    "  mail.__init__(self)\n",
    "  Phone.__init__(self)\n",
    "   print(\"otp is\",self.mail, self.phone"
   ]
  },
  {
   "cell_type": "code",
   "execution_count": 78,
   "metadata": {},
   "outputs": [],
   "source": [
    "Class Mail:\n",
    "  def_ init_ (self) :\n",
    "       Self. digit= 223\n",
    "Class phone:\n",
    "    def_ init_( self) :\n",
    "       Self. digit= 101\n",
    "Class child  (mail, phone) :\n",
    "   def_ init_(self) :\n",
    "       Mail. _ init_ ( self) \n",
    "       Phone. _ init_ ( self) \n",
    "       Print ( \" OTP is\", self. Mail+self.phone) \n",
    "\n"
   ]
  },
  {
   "cell_type": "code",
   "execution_count": 79,
   "metadata": {},
   "outputs": [],
   "source": [
    "c = child()"
   ]
  },
  {
   "cell_type": "code",
   "execution_count": 81,
   "metadata": {},
   "outputs": [
    {
     "data": {
      "text/plain": [
       "<bound method child.property3 of <__main__.child object at 0x0000013E0157CF70>>"
      ]
     },
     "execution_count": 81,
     "metadata": {},
     "output_type": "execute_result"
    }
   ],
   "source": [
    "c.property3"
   ]
  },
  {
   "cell_type": "code",
   "execution_count": 92,
   "metadata": {},
   "outputs": [],
   "source": [
    "import random\n",
    "class Mail:\n",
    "    def __init__(self):\n",
    "        self.OTP1 = random.randint(100,999)\n",
    "        \n",
    "class Phone:\n",
    "    def __init__(self):\n",
    "        self.OTP2 = random.randint(100,999)   \n",
    "        \n",
    "class verified(Mail,Phone):\n",
    "    def __init__(self):\n",
    "        Mail.__init__(self)\n",
    "        Phone.__init__(self)\n",
    "        print(\"6 digit OTP \",str(self.OTP1)+str(self.OTP2))"
   ]
  },
  {
   "cell_type": "code",
   "execution_count": 93,
   "metadata": {},
   "outputs": [
    {
     "name": "stdout",
     "output_type": "stream",
     "text": [
      "6 digit OTP  219101\n"
     ]
    }
   ],
   "source": [
    "c = verified()"
   ]
  },
  {
   "cell_type": "code",
   "execution_count": 99,
   "metadata": {},
   "outputs": [],
   "source": [
    "class mail:\n",
    "    def __init__(self):\n",
    "        self.mail=input(\"enter otp\")\n",
    "class phone:\n",
    "    def __init__(self):\n",
    "        self.phone=input(\"enter otp\")\n",
    "class verify(mail,phone):\n",
    "    def __init__(self):\n",
    "        mail.__init__(self)\n",
    "        phone.__init__(self)\n",
    "        print(\"otp is\",self.mail,self.phone)"
   ]
  },
  {
   "cell_type": "code",
   "execution_count": 100,
   "metadata": {
    "scrolled": true
   },
   "outputs": [
    {
     "name": "stdout",
     "output_type": "stream",
     "text": [
      "enter otp345\n",
      "enter otp345\n",
      "otp is 345 345\n"
     ]
    }
   ],
   "source": [
    "v = verify()"
   ]
  },
  {
   "cell_type": "markdown",
   "metadata": {},
   "source": [
    "# Multi Level Inheritence\n",
    "- One Grand parent, parent class and only one child...\n",
    "![](multilevel.jpg)"
   ]
  },
  {
   "cell_type": "code",
   "execution_count": 107,
   "metadata": {},
   "outputs": [
    {
     "name": "stdout",
     "output_type": "stream",
     "text": [
      "GrandFather property  10 Lands\n",
      "Father property  FLat and  10 Lands\n",
      "My property  10 Lands FLat Education\n"
     ]
    }
   ],
   "source": [
    "class grandFather: \n",
    "    def __init__(self):\n",
    "        self.property1 =  \"10 Lands\"\n",
    "        print(\"GrandFather property \",self.property1)\n",
    "        \n",
    "class Father(grandFather):\n",
    "    def __init__(self):\n",
    "        grandFather.__init__(self)\n",
    "        self.property2 = \"FLat\"\n",
    "        print(\"Father property \",self.property2, \"and \",self.property1)\n",
    "        \n",
    "class child(Father):\n",
    "    def __init__(self):\n",
    "        Father.__init__(self)\n",
    "        self.property3 = \"Education\"\n",
    "        print(\"My property \",self.property1,self.property2,self.property3)\n",
    "        \n",
    "obj = child()"
   ]
  },
  {
   "cell_type": "code",
   "execution_count": 109,
   "metadata": {},
   "outputs": [
    {
     "name": "stdout",
     "output_type": "stream",
     "text": [
      "GrandFather property  10 Lands\n",
      "Father property  FLat and  10 Lands\n"
     ]
    }
   ],
   "source": [
    "obj_father = Father()"
   ]
  },
  {
   "cell_type": "code",
   "execution_count": 110,
   "metadata": {},
   "outputs": [
    {
     "name": "stdout",
     "output_type": "stream",
     "text": [
      "GrandFather property  10 Lands\n"
     ]
    }
   ],
   "source": [
    "obj_grand = grandFather()"
   ]
  }
 ],
 "metadata": {
  "kernelspec": {
   "display_name": "Python 3",
   "language": "python",
   "name": "python3"
  },
  "language_info": {
   "codemirror_mode": {
    "name": "ipython",
    "version": 3
   },
   "file_extension": ".py",
   "mimetype": "text/x-python",
   "name": "python",
   "nbconvert_exporter": "python",
   "pygments_lexer": "ipython3",
   "version": "3.8.3"
  }
 },
 "nbformat": 4,
 "nbformat_minor": 4
}
